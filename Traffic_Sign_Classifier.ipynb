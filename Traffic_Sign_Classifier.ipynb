{
 "cells": [
  {
   "cell_type": "markdown",
   "metadata": {},
   "source": [
    "# Self-Driving Car Engineer Nanodegree\n",
    "\n",
    "## Deep Learning\n",
    "\n",
    "## Project: Build a Traffic Sign Recognition Classifier\n",
    "\n",
    "In this notebook, a template is provided for you to implement your functionality in stages, which is required to successfully complete this project. If additional code is required that cannot be included in the notebook, be sure that the Python code is successfully imported and included in your submission if necessary. \n",
    "\n",
    "> **Note**: Once you have completed all of the code implementations, you need to finalize your work by exporting the iPython Notebook as an HTML document. Before exporting the notebook to html, all of the code cells need to have been run so that reviewers can see the final implementation and output. You can then export the notebook by using the menu above and navigating to  \\n\",\n",
    "    \"**File -> Download as -> HTML (.html)**. Include the finished document along with this notebook as your submission. \n",
    "\n",
    "In addition to implementing code, there is a writeup to complete. The writeup should be completed in a separate file, which can be either a markdown file or a pdf document. There is a [write up template](https://github.com/udacity/CarND-Traffic-Sign-Classifier-Project/blob/master/writeup_template.md) that can be used to guide the writing process. Completing the code template and writeup template will cover all of the [rubric points](https://review.udacity.com/#!/rubrics/481/view) for this project.\n",
    "\n",
    "The [rubric](https://review.udacity.com/#!/rubrics/481/view) contains \"Stand Out Suggestions\" for enhancing the project beyond the minimum requirements. The stand out suggestions are optional. If you decide to pursue the \"stand out suggestions\", you can include the code in this Ipython notebook and also discuss the results in the writeup file.\n",
    "\n",
    "\n",
    ">**Note:** Code and Markdown cells can be executed using the **Shift + Enter** keyboard shortcut. In addition, Markdown cells can be edited by typically double-clicking the cell to enter edit mode."
   ]
  },
  {
   "cell_type": "markdown",
   "metadata": {},
   "source": [
    "---\n",
    "## Step 0: Load The Data"
   ]
  },
  {
   "cell_type": "code",
   "execution_count": 1,
   "metadata": {},
   "outputs": [],
   "source": [
    "# Load pickled data\n",
    "import pickle\n",
    "\n",
    "# TODO: Fill this in based on where you saved the training and testing data\n",
    "\n",
    "training_file = './TestData/train.p'\n",
    "validation_file= './TestData/valid.p'\n",
    "testing_file = './TestData/test.p'\n",
    "\n",
    "with open(training_file, mode='rb') as f:\n",
    "    train = pickle.load(f)\n",
    "with open(validation_file, mode='rb') as f:\n",
    "    valid = pickle.load(f)\n",
    "with open(testing_file, mode='rb') as f:\n",
    "    test = pickle.load(f)\n",
    "    \n",
    "X_train, y_train = train['features'], train['labels']\n",
    "X_valid, y_valid = valid['features'], valid['labels']\n",
    "X_test, y_test = test['features'], test['labels']"
   ]
  },
  {
   "cell_type": "markdown",
   "metadata": {},
   "source": [
    "---\n",
    "\n",
    "## Step 1: Dataset Summary & Exploration\n",
    "\n",
    "The pickled data is a dictionary with 4 key/value pairs:\n",
    "\n",
    "- `'features'` is a 4D array containing raw pixel data of the traffic sign images, (num examples, width, height, channels).\n",
    "- `'labels'` is a 1D array containing the label/class id of the traffic sign. The file `signnames.csv` contains id -> name mappings for each id.\n",
    "- `'sizes'` is a list containing tuples, (width, height) representing the original width and height the image.\n",
    "- `'coords'` is a list containing tuples, (x1, y1, x2, y2) representing coordinates of a bounding box around the sign in the image. **THESE COORDINATES ASSUME THE ORIGINAL IMAGE. THE PICKLED DATA CONTAINS RESIZED VERSIONS (32 by 32) OF THESE IMAGES**\n",
    "\n",
    "Complete the basic data summary below. Use python, numpy and/or pandas methods to calculate the data summary rather than hard coding the results. For example, the [pandas shape method](http://pandas.pydata.org/pandas-docs/stable/generated/pandas.DataFrame.shape.html) might be useful for calculating some of the summary results. "
   ]
  },
  {
   "cell_type": "markdown",
   "metadata": {},
   "source": [
    "### Provide a Basic Summary of the Data Set Using Python, Numpy and/or Pandas"
   ]
  },
  {
   "cell_type": "code",
   "execution_count": 2,
   "metadata": {},
   "outputs": [
    {
     "name": "stdout",
     "output_type": "stream",
     "text": [
      "Number of training examples = 34799\n",
      "Number of testing examples = 12630\n",
      "Image data shape = (32, 32, 3)\n",
      "Number of classes = 43\n"
     ]
    }
   ],
   "source": [
    "### Replace each question mark with the appropriate value. \n",
    "### Use python, pandas or numpy methods rather than hard coding the results\n",
    "\n",
    "# TODO: Number of training examples\n",
    "n_train = len(X_train)\n",
    "\n",
    "# TODO: Number of validation examples\n",
    "n_validation = len(X_valid)\n",
    "\n",
    "# TODO: Number of testing examples.\n",
    "n_test = len(X_test)\n",
    "\n",
    "# TODO: What's the shape of an traffic sign image?\n",
    "image_shape = X_train[1].shape \n",
    "\n",
    "# TODO: How many unique classes/labels there are in the dataset.\n",
    "n_classes = max(y_train)+1\n",
    "\n",
    "assert max(y_train)==max(y_valid), 'The number of classes are different between training and validation set'\n",
    "assert max(y_train)==max(y_test), 'The number of classes are different between training and Test set'\n",
    "\n",
    "print(\"Number of training examples =\", n_train)\n",
    "print(\"Number of testing examples =\", n_test)\n",
    "print(\"Image data shape =\", image_shape)\n",
    "print(\"Number of classes =\", n_classes)"
   ]
  },
  {
   "cell_type": "markdown",
   "metadata": {},
   "source": [
    "### Include an exploratory visualization of the dataset"
   ]
  },
  {
   "cell_type": "markdown",
   "metadata": {},
   "source": [
    "Visualize the German Traffic Signs Dataset using the pickled file(s). This is open ended, suggestions include: plotting traffic sign images, plotting the count of each sign, etc. \n",
    "\n",
    "The [Matplotlib](http://matplotlib.org/) [examples](http://matplotlib.org/examples/index.html) and [gallery](http://matplotlib.org/gallery.html) pages are a great resource for doing visualizations in Python.\n",
    "\n",
    "**NOTE:** It's recommended you start with something simple first. If you wish to do more, come back to it after you've completed the rest of the sections. It can be interesting to look at the distribution of classes in the training, validation and test set. Is the distribution the same? Are there more examples of some classes than others?"
   ]
  },
  {
   "cell_type": "code",
   "execution_count": 3,
   "metadata": {},
   "outputs": [
    {
     "name": "stdout",
     "output_type": "stream",
     "text": [
      "No passing for vehicles over 3.5 metric tons\n",
      "\n"
     ]
    },
    {
     "data": {
      "image/png": "[encoded data removed]",
      "text/plain": [
       "<matplotlib.figure.Figure at 0x15080b9e1d0>"
      ]
     },
     "metadata": {},
     "output_type": "display_data"
    }
   ],
   "source": [
    "### Data exploration visualization code goes here.\n",
    "### Feel free to use as many code cells as needed.\n",
    "import random\n",
    "import matplotlib.pyplot as plt\n",
    "# Visualizations will be shown in the notebook.\n",
    "%matplotlib inline\n",
    "\n",
    "sign_names_file = \"./signnames.csv\"\n",
    "\n",
    "f = open('./signnames.csv','r')\n",
    "lines = f.readlines()\n",
    "dictSignnames = {}\n",
    "for line in lines:\n",
    "    text = line.split(',')\n",
    "    dictSignnames.update({text[0]:text[1]})   \n",
    "\n",
    "index = random.randint(0, len(X_train))\n",
    "image = X_train[index].squeeze()\n",
    "\n",
    "plt.figure(figsize=(1,1))\n",
    "plt.imshow(image, cmap=\"gray\")\n",
    "print(dictSignnames.get(str(y_train[index])))"
   ]
  },
  {
   "cell_type": "markdown",
   "metadata": {},
   "source": [
    "----\n",
    "\n",
    "## Step 2: Design and Test a Model Architecture\n",
    "\n",
    "Design and implement a deep learning model that learns to recognize traffic signs. Train and test your model on the [German Traffic Sign Dataset](http://benchmark.ini.rub.de/?section=gtsrb&subsection=dataset).\n",
    "\n",
    "The LeNet-5 implementation shown in the [classroom](https://classroom.udacity.com/nanodegrees/nd013/parts/fbf77062-5703-404e-b60c-95b78b2f3f9e/modules/6df7ae49-c61c-4bb2-a23e-6527e69209ec/lessons/601ae704-1035-4287-8b11-e2c2716217ad/concepts/d4aca031-508f-4e0b-b493-e7b706120f81) at the end of the CNN lesson is a solid starting point. You'll have to change the number of classes and possibly the preprocessing, but aside from that it's plug and play! \n",
    "\n",
    "With the LeNet-5 solution from the lecture, you should expect a validation set accuracy of about 0.89. To meet specifications, the validation set accuracy will need to be at least 0.93. It is possible to get an even higher accuracy, but 0.93 is the minimum for a successful project submission. \n",
    "\n",
    "There are various aspects to consider when thinking about this problem:\n",
    "\n",
    "- Neural network architecture (is the network over or underfitting?)\n",
    "- Play around preprocessing techniques (normalization, rgb to grayscale, etc)\n",
    "- Number of examples per label (some have more than others).\n",
    "- Generate fake data.\n",
    "\n",
    "Here is an example of a [published baseline model on this problem](http://yann.lecun.com/exdb/publis/pdf/sermanet-ijcnn-11.pdf). It's not required to be familiar with the approach used in the paper but, it's good practice to try to read papers like these."
   ]
  },
  {
   "cell_type": "markdown",
   "metadata": {},
   "source": [
    "### Pre-process the Data Set (normalization, grayscale, etc.)"
   ]
  },
  {
   "cell_type": "markdown",
   "metadata": {},
   "source": [
    "Minimally, the image data should be normalized so that the data has mean zero and equal variance. For image data, `(pixel - 128)/ 128` is a quick way to approximately normalize the data and can be used in this project. \n",
    "\n",
    "Other pre-processing steps are optional. You can try different techniques to see if it improves performance. \n",
    "\n",
    "Use the code cell (or multiple code cells, if necessary) to implement the first step of your project."
   ]
  },
  {
   "cell_type": "code",
   "execution_count": 4,
   "metadata": {},
   "outputs": [
    {
     "name": "stdout",
     "output_type": "stream",
     "text": [
      "Data is normalized\n"
     ]
    }
   ],
   "source": [
    "### Preprocess the data here. It is required to normalize the data. Other preprocessing steps could include \n",
    "### converting to grayscale, etc.\n",
    "### Feel free to use as many code cells as needed.\n",
    "\n",
    "X_train = (X_train -128)/128\n",
    "X_valid = (X_valid - 128)/128\n",
    "X_test = (X_test -128)/128\n",
    "\n",
    "print('Data is normalized')\n"
   ]
  },
  {
   "cell_type": "markdown",
   "metadata": {},
   "source": [
    "### Model Architecture"
   ]
  },
  {
   "cell_type": "code",
   "execution_count": 5,
   "metadata": {},
   "outputs": [],
   "source": [
    "### Define your architecture here.\n",
    "### Feel free to use as many code cells as needed.\n",
    "# Shuffling the data\n",
    "from sklearn.utils import shuffle\n",
    "import tensorflow as tf\n",
    "from tensorflow.contrib.layers import flatten\n",
    "\n",
    "X_train, y_train = shuffle(X_train, y_train)\n",
    "\n",
    "EPOCHS = 20\n",
    "BATCH_SIZE = 200\n",
    "\n",
    "#LeNet function\n",
    "\n",
    "def LeNet(x):    \n",
    "    # Arguments used for tf.truncated_normal, randomly defines variables for the weights and biases for each layer\n",
    "    mu = 0\n",
    "    sigma = 0.1        \n",
    "        \n",
    "    weights = {'wc1':tf.Variable(tf.truncated_normal([5,5,3,6],mu,sigma,dtype=tf.float32)),\\\n",
    "               'wc2':tf.Variable(tf.truncated_normal([5,5,6,16],mu,sigma,dtype=tf.float32)),\\\n",
    "               'wd1':tf.Variable(tf.truncated_normal([400,120],mu,sigma,dtype=tf.float32)),\\\n",
    "               'wd2':tf.Variable(tf.truncated_normal([120,84],mu,sigma,dtype=tf.float32)),\\\n",
    "               'wd3':tf.Variable(tf.truncated_normal([84,n_classes],mu,sigma,dtype=tf.float32))\\\n",
    "              }\n",
    "    \n",
    "    biases = {'bc1': tf.Variable(tf.zeros([6],dtype=tf.float32)),\\\n",
    "              'bc2': tf.Variable(tf.zeros([16],dtype=tf.float32)),\\\n",
    "              'bd1': tf.Variable(tf.zeros([120],dtype=tf.float32)),\\\n",
    "              'bd2': tf.Variable(tf.zeros([84],dtype=tf.float32)),\\\n",
    "              'bd3': tf.Variable(tf.zeros([n_classes],dtype=tf.float32)),\\\n",
    "             }\n",
    "    \n",
    "    # TODO: Layer 1: Convolutional. Input = 32x32x1. Output = 28x28x6.\n",
    "    conv1 = tf.nn.conv2d(x,weights['wc1'],strides=[1,1,1,1],padding='VALID')\n",
    "    conv1 = tf.nn.bias_add(conv1,biases['bc1'])    \n",
    "\n",
    "    # TODO: Activation.\n",
    "    conv1 = tf.nn.relu(conv1)\n",
    "    \n",
    "    #conv1_dims = [conv1.shape.dims[1].value,conv1.shape.dims[2].value,conv1.shape.dims[3].value]\n",
    "    #assert conv1_dims == [28,28,6],'The ouput of first convolution layer is not right'\n",
    "\n",
    "    # TODO: Pooling. Input = 28x28x6. Output = 14x14x6.\n",
    "    pool1 = tf.nn.max_pool(conv1,ksize=[1,2,2,1],strides=[1,2,2,1],padding='VALID')\n",
    "    \n",
    "    #pool1_dims = [pool1.dims[1].value,pool1.dims[2].value,pool1.dims[3].value]\n",
    "    #assert pool1_dims == [14,14,6],'The ouput of first pooling layer is not right'\n",
    "\n",
    "    # TODO: Layer 2: Convolutional. Output = 10x10x16.\n",
    "    conv2 = tf.nn.conv2d(pool1,weights['wc2'],strides=[1,1,1,1],padding='VALID')\n",
    "    conv2 = tf.nn.bias_add(conv2,biases['bc2'])    \n",
    "    \n",
    "    # TODO: Activation.\n",
    "    conv2 = tf.nn.relu(conv2)\n",
    "    \n",
    "    #conv2_dims = [conv2.shape.dims[1].value,conv2.shape.dims[2].value,conv2.shape.dims[3].value]\n",
    "    #assert conv1_dims == [10,10,16],'The ouput of first convolution layer is not right'\n",
    "\n",
    "    # TODO: Pooling. Input = 10x10x16. Output = 5x5x16.\n",
    "    pool2 = tf.nn.max_pool(conv2,ksize=[1,2,2,1],strides=[1,2,2,1],padding = 'VALID')\n",
    "    \n",
    "    #pool1_dims = [pool2.dims[1].value,pool2.dims[2].value,pool2.dims[3].value]\n",
    "    #assert pool1_dims == [5,5,16],'The ouput of first pooling layer is not right'\n",
    "\n",
    "    # TODO: Flatten. Input = 5x5x16. Output = 400.\n",
    "    flat1 = flatten(pool2)\n",
    "    \n",
    "    # TODO: Layer 3: Fully Connected. Input = 400. Output = 120.\n",
    "    fc1 = tf.add(tf.matmul(flat1,weights['wd1']),biases['bd1'])\n",
    "    \n",
    "    # TODO: Activation.\n",
    "    fc1 = tf.nn.relu(fc1)\n",
    "\n",
    "    # TODO: Layer 4: Fully Connected. Input = 120. Output = 84.\n",
    "    fc2 = tf.add(tf.matmul(fc1,weights['wd2']),biases['bd2'])\n",
    "    \n",
    "    # TODO: Activation.\n",
    "    fc2 = tf.nn.relu(fc2)\n",
    "\n",
    "    # TODO: Layer 5: Fully Connected. Input = 84. Output = 10.\n",
    "    logits = tf.add(tf.matmul(fc2,weights['wd3']),biases['bd3'])\n",
    "    \n",
    "    return logits\n"
   ]
  },
  {
   "cell_type": "markdown",
   "metadata": {},
   "source": [
    "### Train, Validate and Test the Model"
   ]
  },
  {
   "cell_type": "markdown",
   "metadata": {},
   "source": [
    "A validation set can be used to assess how well the model is performing. A low accuracy on the training and validation\n",
    "sets imply underfitting. A high accuracy on the training set but low accuracy on the validation set implies overfitting."
   ]
  },
  {
   "cell_type": "code",
   "execution_count": 6,
   "metadata": {},
   "outputs": [
    {
     "name": "stdout",
     "output_type": "stream",
     "text": [
      "Training...\n",
      "\n",
      "EPOCH 1 ...\n",
      "Validation Accuracy = 0.247\n",
      "\n",
      "EPOCH 2 ...\n",
      "Validation Accuracy = 0.420\n",
      "\n",
      "EPOCH 3 ...\n",
      "Validation Accuracy = 0.569\n",
      "\n",
      "EPOCH 4 ...\n",
      "Validation Accuracy = 0.634\n",
      "\n",
      "EPOCH 5 ...\n",
      "Validation Accuracy = 0.636\n",
      "\n",
      "EPOCH 6 ...\n",
      "Validation Accuracy = 0.690\n",
      "\n",
      "EPOCH 7 ...\n",
      "Validation Accuracy = 0.699\n",
      "\n",
      "EPOCH 8 ...\n",
      "Validation Accuracy = 0.722\n",
      "\n",
      "EPOCH 9 ...\n",
      "Validation Accuracy = 0.719\n",
      "\n",
      "EPOCH 10 ...\n",
      "Validation Accuracy = 0.731\n",
      "\n",
      "EPOCH 11 ...\n",
      "Validation Accuracy = 0.731\n",
      "\n",
      "EPOCH 12 ...\n",
      "Validation Accuracy = 0.743\n",
      "\n",
      "EPOCH 13 ...\n",
      "Validation Accuracy = 0.741\n",
      "\n",
      "EPOCH 14 ...\n",
      "Validation Accuracy = 0.742\n",
      "\n",
      "EPOCH 15 ...\n",
      "Validation Accuracy = 0.754\n",
      "\n",
      "EPOCH 16 ...\n",
      "Validation Accuracy = 0.757\n",
      "\n",
      "EPOCH 17 ...\n",
      "Validation Accuracy = 0.742\n",
      "\n",
      "EPOCH 18 ...\n",
      "Validation Accuracy = 0.757\n",
      "\n",
      "EPOCH 19 ...\n",
      "Validation Accuracy = 0.744\n",
      "\n",
      "EPOCH 20 ...\n",
      "Validation Accuracy = 0.743\n",
      "\n",
      "Model saved\n"
     ]
    }
   ],
   "source": [
    "### Train your model here.\n",
    "### Calculate and report the accuracy on the training and validation set.\n",
    "### Once a final model architecture is selected, \n",
    "### the accuracy on the test set should be calculated and reported as well.\n",
    "### Feel free to use as many code cells as needed.\n",
    "# Normalizing the data with zero mean \n",
    "\n",
    "# Placeholder for inputs and labels\n",
    "\n",
    "x = tf.placeholder(tf.float32, (None, 32, 32, 3))\n",
    "y = tf.placeholder(tf.int32, (None))\n",
    "one_hot_y = tf.one_hot(y, n_classes)\n",
    "\n",
    "# Forward and Backprobagation\n",
    "\n",
    "rate = 0.001\n",
    "\n",
    "logits = LeNet(x)\n",
    "cross_entropy = tf.nn.softmax_cross_entropy_with_logits(labels=one_hot_y, logits=logits)\n",
    "loss_operation = tf.reduce_mean(cross_entropy)\n",
    "optimizer = tf.train.AdamOptimizer(learning_rate = rate)\n",
    "training_operation = optimizer.minimize(loss_operation)\n",
    "\n",
    "#Evaluating the Model\n",
    "\n",
    "correct_prediction = tf.equal(tf.argmax(logits, 1), tf.argmax(one_hot_y, 1))\n",
    "accuracy_operation = tf.reduce_mean(tf.cast(correct_prediction, tf.float32))\n",
    "saver = tf.train.Saver()\n",
    "\n",
    "def evaluate(X_data, y_data):\n",
    "    num_examples = len(X_data)\n",
    "    total_accuracy = 0\n",
    "    sess = tf.get_default_session()\n",
    "    for offset in range(0, num_examples, BATCH_SIZE):\n",
    "        batch_x, batch_y = X_data[offset:offset+BATCH_SIZE], y_data[offset:offset+BATCH_SIZE]\n",
    "        accuracy = sess.run(accuracy_operation, feed_dict={x: batch_x, y: batch_y})\n",
    "        total_accuracy += (accuracy * len(batch_x))\n",
    "    return total_accuracy / num_examples\n",
    "\n",
    "# Training the model \n",
    "\n",
    "with tf.Session() as sess:\n",
    "    sess.run(tf.global_variables_initializer())\n",
    "    num_examples = len(X_train)\n",
    "    \n",
    "    print(\"Training...\")\n",
    "    print()\n",
    "    for i in range(EPOCHS):\n",
    "        X_train, y_train = shuffle(X_train, y_train)\n",
    "        for offset in range(0, num_examples, BATCH_SIZE):\n",
    "            end = offset + BATCH_SIZE\n",
    "            batch_x, batch_y = X_train[offset:end], y_train[offset:end]\n",
    "            sess.run(training_operation, feed_dict={x: batch_x, y: batch_y})\n",
    "            \n",
    "        validation_accuracy = evaluate(X_valid, y_valid)\n",
    "        print(\"EPOCH {} ...\".format(i+1))\n",
    "        print(\"Validation Accuracy = {:.3f}\".format(validation_accuracy))\n",
    "        print()\n",
    "        \n",
    "    saver.save(sess, './TrafficSignClassifier')\n",
    "    print(\"Model saved\")\n",
    "\n"
   ]
  },
  {
   "cell_type": "markdown",
   "metadata": {},
   "source": [
    "---\n",
    "\n",
    "## Step 3: Test a Model on New Images\n",
    "\n",
    "To give yourself more insight into how your model is working, download at least five pictures of German traffic signs from the web and use your model to predict the traffic sign type.\n",
    "\n",
    "You may find `signnames.csv` useful as it contains mappings from the class id (integer) to the actual sign name."
   ]
  },
  {
   "cell_type": "markdown",
   "metadata": {},
   "source": [
    "### Load and Output the Images"
   ]
  },
  {
   "cell_type": "code",
   "execution_count": 7,
   "metadata": {},
   "outputs": [],
   "source": [
    "### Load the images and plot them here.\n",
    "### Feel free to use as many code cells as needed."
   ]
  },
  {
   "cell_type": "markdown",
   "metadata": {},
   "source": [
    "### Predict the Sign Type for Each Image"
   ]
  },
  {
   "cell_type": "code",
   "execution_count": 8,
   "metadata": {},
   "outputs": [],
   "source": [
    "### Run the predictions here and use the model to output the prediction for each image.\n",
    "### Make sure to pre-process the images with the same pre-processing pipeline used earlier.\n",
    "### Feel free to use as many code cells as needed."
   ]
  },
  {
   "cell_type": "markdown",
   "metadata": {},
   "source": [
    "### Analyze Performance"
   ]
  },
  {
   "cell_type": "code",
   "execution_count": 9,
   "metadata": {},
   "outputs": [],
   "source": [
    "### Calculate the accuracy for these 5 new images. \n",
    "### For example, if the model predicted 1 out of 5 signs correctly, it's 20% accurate on these new images."
   ]
  },
  {
   "cell_type": "markdown",
   "metadata": {},
   "source": [
    "### Output Top 5 Softmax Probabilities For Each Image Found on the Web"
   ]
  },
  {
   "cell_type": "markdown",
   "metadata": {},
   "source": [
    "For each of the new images, print out the model's softmax probabilities to show the **certainty** of the model's predictions (limit the output to the top 5 probabilities for each image). [`tf.nn.top_k`](https://www.tensorflow.org/versions/r0.12/api_docs/python/nn.html#top_k) could prove helpful here. \n",
    "\n",
    "The example below demonstrates how tf.nn.top_k can be used to find the top k predictions for each image.\n",
    "\n",
    "`tf.nn.top_k` will return the values and indices (class ids) of the top k predictions. So if k=3, for each sign, it'll return the 3 largest probabilities (out of a possible 43) and the correspoding class ids.\n",
    "\n",
    "Take this numpy array as an example. The values in the array represent predictions. The array contains softmax probabilities for five candidate images with six possible classes. `tf.nn.top_k` is used to choose the three classes with the highest probability:\n",
    "\n",
    "```\n",
    "# (5, 6) array\n",
    "a = np.array([[ 0.24879643,  0.07032244,  0.12641572,  0.34763842,  0.07893497,\n",
    "         0.12789202],\n",
    "       [ 0.28086119,  0.27569815,  0.08594638,  0.0178669 ,  0.18063401,\n",
    "         0.15899337],\n",
    "       [ 0.26076848,  0.23664738,  0.08020603,  0.07001922,  0.1134371 ,\n",
    "         0.23892179],\n",
    "       [ 0.11943333,  0.29198961,  0.02605103,  0.26234032,  0.1351348 ,\n",
    "         0.16505091],\n",
    "       [ 0.09561176,  0.34396535,  0.0643941 ,  0.16240774,  0.24206137,\n",
    "         0.09155967]])\n",
    "```\n",
    "\n",
    "Running it through `sess.run(tf.nn.top_k(tf.constant(a), k=3))` produces:\n",
    "\n",
    "```\n",
    "TopKV2(values=array([[ 0.34763842,  0.24879643,  0.12789202],\n",
    "       [ 0.28086119,  0.27569815,  0.18063401],\n",
    "       [ 0.26076848,  0.23892179,  0.23664738],\n",
    "       [ 0.29198961,  0.26234032,  0.16505091],\n",
    "       [ 0.34396535,  0.24206137,  0.16240774]]), indices=array([[3, 0, 5],\n",
    "       [0, 1, 4],\n",
    "       [0, 5, 1],\n",
    "       [1, 3, 5],\n",
    "       [1, 4, 3]], dtype=int32))\n",
    "```\n",
    "\n",
    "Looking just at the first row we get `[ 0.34763842,  0.24879643,  0.12789202]`, you can confirm these are the 3 largest probabilities in `a`. You'll also notice `[3, 0, 5]` are the corresponding indices."
   ]
  },
  {
   "cell_type": "code",
   "execution_count": 10,
   "metadata": {},
   "outputs": [],
   "source": [
    "### Print out the top five softmax probabilities for the predictions on the German traffic sign images found on the web. \n",
    "### Feel free to use as many code cells as needed."
   ]
  },
  {
   "cell_type": "markdown",
   "metadata": {},
   "source": [
    "### Project Writeup\n",
    "\n",
    "Once you have completed the code implementation, document your results in a project writeup using this [template](https://github.com/udacity/CarND-Traffic-Sign-Classifier-Project/blob/master/writeup_template.md) as a guide. The writeup can be in a markdown or pdf file. "
   ]
  },
  {
   "cell_type": "markdown",
   "metadata": {},
   "source": [
    "> **Note**: Once you have completed all of the code implementations and successfully answered each question above, you may finalize your work by exporting the iPython Notebook as an HTML document. You can do this by using the menu above and navigating to  \\n\",\n",
    "    \"**File -> Download as -> HTML (.html)**. Include the finished document along with this notebook as your submission."
   ]
  },
  {
   "cell_type": "markdown",
   "metadata": {},
   "source": [
    "---\n",
    "\n",
    "## Step 4 (Optional): Visualize the Neural Network's State with Test Images\n",
    "\n",
    " This Section is not required to complete but acts as an additional excersise for understaning the output of a neural network's weights. While neural networks can be a great learning device they are often referred to as a black box. We can understand what the weights of a neural network look like better by plotting their feature maps. After successfully training your neural network you can see what it's feature maps look like by plotting the output of the network's weight layers in response to a test stimuli image. From these plotted feature maps, it's possible to see what characteristics of an image the network finds interesting. For a sign, maybe the inner network feature maps react with high activation to the sign's boundary outline or to the contrast in the sign's painted symbol.\n",
    "\n",
    " Provided for you below is the function code that allows you to get the visualization output of any tensorflow weight layer you want. The inputs to the function should be a stimuli image, one used during training or a new one you provided, and then the tensorflow variable name that represents the layer's state during the training process, for instance if you wanted to see what the [LeNet lab's](https://classroom.udacity.com/nanodegrees/nd013/parts/fbf77062-5703-404e-b60c-95b78b2f3f9e/modules/6df7ae49-c61c-4bb2-a23e-6527e69209ec/lessons/601ae704-1035-4287-8b11-e2c2716217ad/concepts/d4aca031-508f-4e0b-b493-e7b706120f81) feature maps looked like for it's second convolutional layer you could enter conv2 as the tf_activation variable.\n",
    "\n",
    "For an example of what feature map outputs look like, check out NVIDIA's results in their paper [End-to-End Deep Learning for Self-Driving Cars](https://devblogs.nvidia.com/parallelforall/deep-learning-self-driving-cars/) in the section Visualization of internal CNN State. NVIDIA was able to show that their network's inner weights had high activations to road boundary lines by comparing feature maps from an image with a clear path to one without. Try experimenting with a similar test to show that your trained network's weights are looking for interesting features, whether it's looking at differences in feature maps from images with or without a sign, or even what feature maps look like in a trained network vs a completely untrained one on the same sign image.\n",
    "\n",
    "<figure>\n",
    " <img src=\"visualize_cnn.png\" width=\"380\" alt=\"Combined Image\" />\n",
    " <figcaption>\n",
    " <p></p> \n",
    " <p style=\"text-align: center;\"> Your output should look something like this (above)</p> \n",
    " </figcaption>\n",
    "</figure>\n",
    " <p></p> \n"
   ]
  },
  {
   "cell_type": "code",
   "execution_count": 11,
   "metadata": {},
   "outputs": [],
   "source": [
    "### Visualize your network's feature maps here.\n",
    "### Feel free to use as many code cells as needed.\n",
    "\n",
    "# image_input: the test image being fed into the network to produce the feature maps\n",
    "# tf_activation: should be a tf variable name used during your training procedure that represents the calculated state of a specific weight layer\n",
    "# activation_min/max: can be used to view the activation contrast in more detail, by default matplot sets min and max to the actual min and max values of the output\n",
    "# plt_num: used to plot out multiple different weight feature map sets on the same block, just extend the plt number for each new feature map entry\n",
    "\n",
    "def outputFeatureMap(image_input, tf_activation, activation_min=-1, activation_max=-1 ,plt_num=1):\n",
    "    # Here make sure to preprocess your image_input in a way your network expects\n",
    "    # with size, normalization, ect if needed\n",
    "    # image_input =\n",
    "    # Note: x should be the same name as your network's tensorflow data placeholder variable\n",
    "    # If you get an error tf_activation is not defined it may be having trouble accessing the variable from inside a function\n",
    "    activation = tf_activation.eval(session=sess,feed_dict={x : image_input})\n",
    "    featuremaps = activation.shape[3]\n",
    "    plt.figure(plt_num, figsize=(15,15))\n",
    "    for featuremap in range(featuremaps):\n",
    "        plt.subplot(6,8, featuremap+1) # sets the number of feature maps to show on each row and column\n",
    "        plt.title('FeatureMap ' + str(featuremap)) # displays the feature map number\n",
    "        if activation_min != -1 & activation_max != -1:\n",
    "            plt.imshow(activation[0,:,:, featuremap], interpolation=\"nearest\", vmin =activation_min, vmax=activation_max, cmap=\"gray\")\n",
    "        elif activation_max != -1:\n",
    "            plt.imshow(activation[0,:,:, featuremap], interpolation=\"nearest\", vmax=activation_max, cmap=\"gray\")\n",
    "        elif activation_min !=-1:\n",
    "            plt.imshow(activation[0,:,:, featuremap], interpolation=\"nearest\", vmin=activation_min, cmap=\"gray\")\n",
    "        else:\n",
    "            plt.imshow(activation[0,:,:, featuremap], interpolation=\"nearest\", cmap=\"gray\")"
   ]
  },
  {
   "cell_type": "code",
   "execution_count": 57,
   "metadata": {},
   "outputs": [
    {
     "name": "stdout",
     "output_type": "stream",
     "text": [
      "INFO:tensorflow:Restoring parameters from .\\TrafficSignClassifier\n"
     ]
    },
    {
     "ename": "InvalidArgumentError",
     "evalue": "You must feed a value for placeholder tensor 'Placeholder_2' with dtype float\n\t [[Node: Placeholder_2 = Placeholder[dtype=DT_FLOAT, shape=[], _device=\"/job:localhost/replica:0/task:0/gpu:0\"]()]]\n\nCaused by op 'Placeholder_2', defined at:\n  File \"C:\\ProgramData\\Anaconda3\\envs\\carnd-term1-gpu\\lib\\runpy.py\", line 184, in _run_module_as_main\n    \"__main__\", mod_spec)\n  File \"C:\\ProgramData\\Anaconda3\\envs\\carnd-term1-gpu\\lib\\runpy.py\", line 85, in _run_code\n    exec(code, run_globals)\n  File \"C:\\ProgramData\\Anaconda3\\envs\\carnd-term1-gpu\\lib\\site-packages\\ipykernel_launcher.py\", line 16, in <module>\n    app.launch_new_instance()\n  File \"C:\\ProgramData\\Anaconda3\\envs\\carnd-term1-gpu\\lib\\site-packages\\traitlets\\config\\application.py\", line 658, in launch_instance\n    app.start()\n  File \"C:\\ProgramData\\Anaconda3\\envs\\carnd-term1-gpu\\lib\\site-packages\\ipykernel\\kernelapp.py\", line 477, in start\n    ioloop.IOLoop.instance().start()\n  File \"C:\\ProgramData\\Anaconda3\\envs\\carnd-term1-gpu\\lib\\site-packages\\zmq\\eventloop\\ioloop.py\", line 177, in start\n    super(ZMQIOLoop, self).start()\n  File \"C:\\ProgramData\\Anaconda3\\envs\\carnd-term1-gpu\\lib\\site-packages\\tornado\\ioloop.py\", line 888, in start\n    handler_func(fd_obj, events)\n  File \"C:\\ProgramData\\Anaconda3\\envs\\carnd-term1-gpu\\lib\\site-packages\\tornado\\stack_context.py\", line 277, in null_wrapper\n    return fn(*args, **kwargs)\n  File \"C:\\ProgramData\\Anaconda3\\envs\\carnd-term1-gpu\\lib\\site-packages\\zmq\\eventloop\\zmqstream.py\", line 440, in _handle_events\n    self._handle_recv()\n  File \"C:\\ProgramData\\Anaconda3\\envs\\carnd-term1-gpu\\lib\\site-packages\\zmq\\eventloop\\zmqstream.py\", line 472, in _handle_recv\n    self._run_callback(callback, msg)\n  File \"C:\\ProgramData\\Anaconda3\\envs\\carnd-term1-gpu\\lib\\site-packages\\zmq\\eventloop\\zmqstream.py\", line 414, in _run_callback\n    callback(*args, **kwargs)\n  File \"C:\\ProgramData\\Anaconda3\\envs\\carnd-term1-gpu\\lib\\site-packages\\tornado\\stack_context.py\", line 277, in null_wrapper\n    return fn(*args, **kwargs)\n  File \"C:\\ProgramData\\Anaconda3\\envs\\carnd-term1-gpu\\lib\\site-packages\\ipykernel\\kernelbase.py\", line 283, in dispatcher\n    return self.dispatch_shell(stream, msg)\n  File \"C:\\ProgramData\\Anaconda3\\envs\\carnd-term1-gpu\\lib\\site-packages\\ipykernel\\kernelbase.py\", line 235, in dispatch_shell\n    handler(stream, idents, msg)\n  File \"C:\\ProgramData\\Anaconda3\\envs\\carnd-term1-gpu\\lib\\site-packages\\ipykernel\\kernelbase.py\", line 399, in execute_request\n    user_expressions, allow_stdin)\n  File \"C:\\ProgramData\\Anaconda3\\envs\\carnd-term1-gpu\\lib\\site-packages\\ipykernel\\ipkernel.py\", line 196, in do_execute\n    res = shell.run_cell(code, store_history=store_history, silent=silent)\n  File \"C:\\ProgramData\\Anaconda3\\envs\\carnd-term1-gpu\\lib\\site-packages\\ipykernel\\zmqshell.py\", line 533, in run_cell\n    return super(ZMQInteractiveShell, self).run_cell(*args, **kwargs)\n  File \"C:\\ProgramData\\Anaconda3\\envs\\carnd-term1-gpu\\lib\\site-packages\\IPython\\core\\interactiveshell.py\", line 2728, in run_cell\n    interactivity=interactivity, compiler=compiler, result=result)\n  File \"C:\\ProgramData\\Anaconda3\\envs\\carnd-term1-gpu\\lib\\site-packages\\IPython\\core\\interactiveshell.py\", line 2850, in run_ast_nodes\n    if self.run_code(code, result):\n  File \"C:\\ProgramData\\Anaconda3\\envs\\carnd-term1-gpu\\lib\\site-packages\\IPython\\core\\interactiveshell.py\", line 2910, in run_code\n    exec(code_obj, self.user_global_ns, self.user_ns)\n  File \"<ipython-input-12-d81b13bbe87e>\", line 6, in <module>\n    new_saver = tf.train.import_meta_graph('TrafficSignClassifier.meta')\n  File \"C:\\ProgramData\\Anaconda3\\envs\\carnd-term1-gpu\\lib\\site-packages\\tensorflow\\python\\training\\saver.py\", line 1595, in import_meta_graph\n    **kwargs)\n  File \"C:\\ProgramData\\Anaconda3\\envs\\carnd-term1-gpu\\lib\\site-packages\\tensorflow\\python\\framework\\meta_graph.py\", line 499, in import_scoped_meta_graph\n    producer_op_list=producer_op_list)\n  File \"C:\\ProgramData\\Anaconda3\\envs\\carnd-term1-gpu\\lib\\site-packages\\tensorflow\\python\\framework\\importer.py\", line 308, in import_graph_def\n    op_def=op_def)\n  File \"C:\\ProgramData\\Anaconda3\\envs\\carnd-term1-gpu\\lib\\site-packages\\tensorflow\\python\\framework\\ops.py\", line 2336, in create_op\n    original_op=self._default_original_op, op_def=op_def)\n  File \"C:\\ProgramData\\Anaconda3\\envs\\carnd-term1-gpu\\lib\\site-packages\\tensorflow\\python\\framework\\ops.py\", line 1228, in __init__\n    self._traceback = _extract_stack()\n\nInvalidArgumentError (see above for traceback): You must feed a value for placeholder tensor 'Placeholder_2' with dtype float\n\t [[Node: Placeholder_2 = Placeholder[dtype=DT_FLOAT, shape=[], _device=\"/job:localhost/replica:0/task:0/gpu:0\"]()]]\n",
     "output_type": "error",
     "traceback": [
      "\u001b[1;31m---------------------------------------------------------------------------\u001b[0m",
      "\u001b[1;31mInvalidArgumentError\u001b[0m                      Traceback (most recent call last)",
      "\u001b[1;32mC:\\ProgramData\\Anaconda3\\envs\\carnd-term1-gpu\\lib\\site-packages\\tensorflow\\python\\client\\session.py\u001b[0m in \u001b[0;36m_do_call\u001b[1;34m(self, fn, *args)\u001b[0m\n\u001b[0;32m   1038\u001b[0m     \u001b[1;32mtry\u001b[0m\u001b[1;33m:\u001b[0m\u001b[1;33m\u001b[0m\u001b[0m\n\u001b[1;32m-> 1039\u001b[1;33m       \u001b[1;32mreturn\u001b[0m \u001b[0mfn\u001b[0m\u001b[1;33m(\u001b[0m\u001b[1;33m*\u001b[0m\u001b[0margs\u001b[0m\u001b[1;33m)\u001b[0m\u001b[1;33m\u001b[0m\u001b[0m\n\u001b[0m\u001b[0;32m   1040\u001b[0m     \u001b[1;32mexcept\u001b[0m \u001b[0merrors\u001b[0m\u001b[1;33m.\u001b[0m\u001b[0mOpError\u001b[0m \u001b[1;32mas\u001b[0m \u001b[0me\u001b[0m\u001b[1;33m:\u001b[0m\u001b[1;33m\u001b[0m\u001b[0m\n",
      "\u001b[1;32mC:\\ProgramData\\Anaconda3\\envs\\carnd-term1-gpu\\lib\\site-packages\\tensorflow\\python\\client\\session.py\u001b[0m in \u001b[0;36m_run_fn\u001b[1;34m(session, feed_dict, fetch_list, target_list, options, run_metadata)\u001b[0m\n\u001b[0;32m   1020\u001b[0m                                  \u001b[0mfeed_dict\u001b[0m\u001b[1;33m,\u001b[0m \u001b[0mfetch_list\u001b[0m\u001b[1;33m,\u001b[0m \u001b[0mtarget_list\u001b[0m\u001b[1;33m,\u001b[0m\u001b[1;33m\u001b[0m\u001b[0m\n\u001b[1;32m-> 1021\u001b[1;33m                                  status, run_metadata)\n\u001b[0m\u001b[0;32m   1022\u001b[0m \u001b[1;33m\u001b[0m\u001b[0m\n",
      "\u001b[1;32mC:\\ProgramData\\Anaconda3\\envs\\carnd-term1-gpu\\lib\\contextlib.py\u001b[0m in \u001b[0;36m__exit__\u001b[1;34m(self, type, value, traceback)\u001b[0m\n\u001b[0;32m     65\u001b[0m             \u001b[1;32mtry\u001b[0m\u001b[1;33m:\u001b[0m\u001b[1;33m\u001b[0m\u001b[0m\n\u001b[1;32m---> 66\u001b[1;33m                 \u001b[0mnext\u001b[0m\u001b[1;33m(\u001b[0m\u001b[0mself\u001b[0m\u001b[1;33m.\u001b[0m\u001b[0mgen\u001b[0m\u001b[1;33m)\u001b[0m\u001b[1;33m\u001b[0m\u001b[0m\n\u001b[0m\u001b[0;32m     67\u001b[0m             \u001b[1;32mexcept\u001b[0m \u001b[0mStopIteration\u001b[0m\u001b[1;33m:\u001b[0m\u001b[1;33m\u001b[0m\u001b[0m\n",
      "\u001b[1;32mC:\\ProgramData\\Anaconda3\\envs\\carnd-term1-gpu\\lib\\site-packages\\tensorflow\\python\\framework\\errors_impl.py\u001b[0m in \u001b[0;36mraise_exception_on_not_ok_status\u001b[1;34m()\u001b[0m\n\u001b[0;32m    465\u001b[0m           \u001b[0mcompat\u001b[0m\u001b[1;33m.\u001b[0m\u001b[0mas_text\u001b[0m\u001b[1;33m(\u001b[0m\u001b[0mpywrap_tensorflow\u001b[0m\u001b[1;33m.\u001b[0m\u001b[0mTF_Message\u001b[0m\u001b[1;33m(\u001b[0m\u001b[0mstatus\u001b[0m\u001b[1;33m)\u001b[0m\u001b[1;33m)\u001b[0m\u001b[1;33m,\u001b[0m\u001b[1;33m\u001b[0m\u001b[0m\n\u001b[1;32m--> 466\u001b[1;33m           pywrap_tensorflow.TF_GetCode(status))\n\u001b[0m\u001b[0;32m    467\u001b[0m   \u001b[1;32mfinally\u001b[0m\u001b[1;33m:\u001b[0m\u001b[1;33m\u001b[0m\u001b[0m\n",
      "\u001b[1;31mInvalidArgumentError\u001b[0m: You must feed a value for placeholder tensor 'Placeholder_2' with dtype float\n\t [[Node: Placeholder_2 = Placeholder[dtype=DT_FLOAT, shape=[], _device=\"/job:localhost/replica:0/task:0/gpu:0\"]()]]",
      "\nDuring handling of the above exception, another exception occurred:\n",
      "\u001b[1;31mInvalidArgumentError\u001b[0m                      Traceback (most recent call last)",
      "\u001b[1;32m<ipython-input-57-bcaf16227416>\u001b[0m in \u001b[0;36m<module>\u001b[1;34m()\u001b[0m\n\u001b[0;32m      9\u001b[0m     \u001b[0mTensor_operations\u001b[0m \u001b[1;33m=\u001b[0m \u001b[1;33m[\u001b[0m\u001b[0mtensor\u001b[0m\u001b[1;33m.\u001b[0m\u001b[0mop\u001b[0m \u001b[1;32mfor\u001b[0m \u001b[0mtensor\u001b[0m \u001b[1;32min\u001b[0m \u001b[0mtf\u001b[0m\u001b[1;33m.\u001b[0m\u001b[0mget_default_graph\u001b[0m\u001b[1;33m(\u001b[0m\u001b[1;33m)\u001b[0m\u001b[1;33m.\u001b[0m\u001b[0mas_graph_def\u001b[0m\u001b[1;33m(\u001b[0m\u001b[1;33m)\u001b[0m\u001b[1;33m.\u001b[0m\u001b[0mnode\u001b[0m\u001b[1;33m]\u001b[0m\u001b[1;33m\u001b[0m\u001b[0m\n\u001b[0;32m     10\u001b[0m     \u001b[0mConv2D\u001b[0m \u001b[1;33m=\u001b[0m \u001b[0mtf\u001b[0m\u001b[1;33m.\u001b[0m\u001b[0mget_default_graph\u001b[0m\u001b[1;33m(\u001b[0m\u001b[1;33m)\u001b[0m\u001b[1;33m.\u001b[0m\u001b[0mget_tensor_by_name\u001b[0m\u001b[1;33m(\u001b[0m\u001b[1;34m'Conv2D:0'\u001b[0m\u001b[1;33m)\u001b[0m\u001b[1;33m\u001b[0m\u001b[0m\n\u001b[1;32m---> 11\u001b[1;33m     \u001b[0moutputFeatureMap\u001b[0m\u001b[1;33m(\u001b[0m\u001b[0mimage\u001b[0m\u001b[1;33m,\u001b[0m\u001b[0mConv2D_1_1\u001b[0m\u001b[1;33m)\u001b[0m\u001b[1;33m\u001b[0m\u001b[0m\n\u001b[0m",
      "\u001b[1;32m<ipython-input-50-6b2b354a9681>\u001b[0m in \u001b[0;36moutputFeatureMap\u001b[1;34m(image_input, tf_activation, activation_min, activation_max, plt_num)\u001b[0m\n\u001b[0;32m     13\u001b[0m     \u001b[1;31m# Note: x should be the same name as your network's tensorflow data placeholder variable\u001b[0m\u001b[1;33m\u001b[0m\u001b[1;33m\u001b[0m\u001b[0m\n\u001b[0;32m     14\u001b[0m     \u001b[1;31m# If you get an error tf_activation is not defined it may be having trouble accessing the variable from inside a function\u001b[0m\u001b[1;33m\u001b[0m\u001b[1;33m\u001b[0m\u001b[0m\n\u001b[1;32m---> 15\u001b[1;33m     \u001b[0mactivation\u001b[0m \u001b[1;33m=\u001b[0m \u001b[0mtf_activation\u001b[0m\u001b[1;33m.\u001b[0m\u001b[0meval\u001b[0m\u001b[1;33m(\u001b[0m\u001b[0msession\u001b[0m\u001b[1;33m=\u001b[0m\u001b[0msess\u001b[0m\u001b[1;33m,\u001b[0m\u001b[0mfeed_dict\u001b[0m\u001b[1;33m=\u001b[0m\u001b[1;33m{\u001b[0m\u001b[0mx\u001b[0m \u001b[1;33m:\u001b[0m \u001b[0mimage_input\u001b[0m\u001b[1;33m}\u001b[0m\u001b[1;33m)\u001b[0m\u001b[1;33m\u001b[0m\u001b[0m\n\u001b[0m\u001b[0;32m     16\u001b[0m     \u001b[0mfeaturemaps\u001b[0m \u001b[1;33m=\u001b[0m \u001b[0mactivation\u001b[0m\u001b[1;33m.\u001b[0m\u001b[0mshape\u001b[0m\u001b[1;33m[\u001b[0m\u001b[1;36m3\u001b[0m\u001b[1;33m]\u001b[0m\u001b[1;33m\u001b[0m\u001b[0m\n\u001b[0;32m     17\u001b[0m     \u001b[0mplt\u001b[0m\u001b[1;33m.\u001b[0m\u001b[0mfigure\u001b[0m\u001b[1;33m(\u001b[0m\u001b[0mplt_num\u001b[0m\u001b[1;33m,\u001b[0m \u001b[0mfigsize\u001b[0m\u001b[1;33m=\u001b[0m\u001b[1;33m(\u001b[0m\u001b[1;36m15\u001b[0m\u001b[1;33m,\u001b[0m\u001b[1;36m15\u001b[0m\u001b[1;33m)\u001b[0m\u001b[1;33m)\u001b[0m\u001b[1;33m\u001b[0m\u001b[0m\n",
      "\u001b[1;32mC:\\ProgramData\\Anaconda3\\envs\\carnd-term1-gpu\\lib\\site-packages\\tensorflow\\python\\framework\\ops.py\u001b[0m in \u001b[0;36meval\u001b[1;34m(self, feed_dict, session)\u001b[0m\n\u001b[0;32m    567\u001b[0m \u001b[1;33m\u001b[0m\u001b[0m\n\u001b[0;32m    568\u001b[0m     \"\"\"\n\u001b[1;32m--> 569\u001b[1;33m     \u001b[1;32mreturn\u001b[0m \u001b[0m_eval_using_default_session\u001b[0m\u001b[1;33m(\u001b[0m\u001b[0mself\u001b[0m\u001b[1;33m,\u001b[0m \u001b[0mfeed_dict\u001b[0m\u001b[1;33m,\u001b[0m \u001b[0mself\u001b[0m\u001b[1;33m.\u001b[0m\u001b[0mgraph\u001b[0m\u001b[1;33m,\u001b[0m \u001b[0msession\u001b[0m\u001b[1;33m)\u001b[0m\u001b[1;33m\u001b[0m\u001b[0m\n\u001b[0m\u001b[0;32m    570\u001b[0m \u001b[1;33m\u001b[0m\u001b[0m\n\u001b[0;32m    571\u001b[0m \u001b[1;33m\u001b[0m\u001b[0m\n",
      "\u001b[1;32mC:\\ProgramData\\Anaconda3\\envs\\carnd-term1-gpu\\lib\\site-packages\\tensorflow\\python\\framework\\ops.py\u001b[0m in \u001b[0;36m_eval_using_default_session\u001b[1;34m(tensors, feed_dict, graph, session)\u001b[0m\n\u001b[0;32m   3739\u001b[0m                        \u001b[1;34m\"the tensor's graph is different from the session's \"\u001b[0m\u001b[1;33m\u001b[0m\u001b[0m\n\u001b[0;32m   3740\u001b[0m                        \"graph.\")\n\u001b[1;32m-> 3741\u001b[1;33m   \u001b[1;32mreturn\u001b[0m \u001b[0msession\u001b[0m\u001b[1;33m.\u001b[0m\u001b[0mrun\u001b[0m\u001b[1;33m(\u001b[0m\u001b[0mtensors\u001b[0m\u001b[1;33m,\u001b[0m \u001b[0mfeed_dict\u001b[0m\u001b[1;33m)\u001b[0m\u001b[1;33m\u001b[0m\u001b[0m\n\u001b[0m\u001b[0;32m   3742\u001b[0m \u001b[1;33m\u001b[0m\u001b[0m\n\u001b[0;32m   3743\u001b[0m \u001b[1;33m\u001b[0m\u001b[0m\n",
      "\u001b[1;32mC:\\ProgramData\\Anaconda3\\envs\\carnd-term1-gpu\\lib\\site-packages\\tensorflow\\python\\client\\session.py\u001b[0m in \u001b[0;36mrun\u001b[1;34m(self, fetches, feed_dict, options, run_metadata)\u001b[0m\n\u001b[0;32m    776\u001b[0m     \u001b[1;32mtry\u001b[0m\u001b[1;33m:\u001b[0m\u001b[1;33m\u001b[0m\u001b[0m\n\u001b[0;32m    777\u001b[0m       result = self._run(None, fetches, feed_dict, options_ptr,\n\u001b[1;32m--> 778\u001b[1;33m                          run_metadata_ptr)\n\u001b[0m\u001b[0;32m    779\u001b[0m       \u001b[1;32mif\u001b[0m \u001b[0mrun_metadata\u001b[0m\u001b[1;33m:\u001b[0m\u001b[1;33m\u001b[0m\u001b[0m\n\u001b[0;32m    780\u001b[0m         \u001b[0mproto_data\u001b[0m \u001b[1;33m=\u001b[0m \u001b[0mtf_session\u001b[0m\u001b[1;33m.\u001b[0m\u001b[0mTF_GetBuffer\u001b[0m\u001b[1;33m(\u001b[0m\u001b[0mrun_metadata_ptr\u001b[0m\u001b[1;33m)\u001b[0m\u001b[1;33m\u001b[0m\u001b[0m\n",
      "\u001b[1;32mC:\\ProgramData\\Anaconda3\\envs\\carnd-term1-gpu\\lib\\site-packages\\tensorflow\\python\\client\\session.py\u001b[0m in \u001b[0;36m_run\u001b[1;34m(self, handle, fetches, feed_dict, options, run_metadata)\u001b[0m\n\u001b[0;32m    980\u001b[0m     \u001b[1;32mif\u001b[0m \u001b[0mfinal_fetches\u001b[0m \u001b[1;32mor\u001b[0m \u001b[0mfinal_targets\u001b[0m\u001b[1;33m:\u001b[0m\u001b[1;33m\u001b[0m\u001b[0m\n\u001b[0;32m    981\u001b[0m       results = self._do_run(handle, final_targets, final_fetches,\n\u001b[1;32m--> 982\u001b[1;33m                              feed_dict_string, options, run_metadata)\n\u001b[0m\u001b[0;32m    983\u001b[0m     \u001b[1;32melse\u001b[0m\u001b[1;33m:\u001b[0m\u001b[1;33m\u001b[0m\u001b[0m\n\u001b[0;32m    984\u001b[0m       \u001b[0mresults\u001b[0m \u001b[1;33m=\u001b[0m \u001b[1;33m[\u001b[0m\u001b[1;33m]\u001b[0m\u001b[1;33m\u001b[0m\u001b[0m\n",
      "\u001b[1;32mC:\\ProgramData\\Anaconda3\\envs\\carnd-term1-gpu\\lib\\site-packages\\tensorflow\\python\\client\\session.py\u001b[0m in \u001b[0;36m_do_run\u001b[1;34m(self, handle, target_list, fetch_list, feed_dict, options, run_metadata)\u001b[0m\n\u001b[0;32m   1030\u001b[0m     \u001b[1;32mif\u001b[0m \u001b[0mhandle\u001b[0m \u001b[1;32mis\u001b[0m \u001b[1;32mNone\u001b[0m\u001b[1;33m:\u001b[0m\u001b[1;33m\u001b[0m\u001b[0m\n\u001b[0;32m   1031\u001b[0m       return self._do_call(_run_fn, self._session, feed_dict, fetch_list,\n\u001b[1;32m-> 1032\u001b[1;33m                            target_list, options, run_metadata)\n\u001b[0m\u001b[0;32m   1033\u001b[0m     \u001b[1;32melse\u001b[0m\u001b[1;33m:\u001b[0m\u001b[1;33m\u001b[0m\u001b[0m\n\u001b[0;32m   1034\u001b[0m       return self._do_call(_prun_fn, self._session, handle, feed_dict,\n",
      "\u001b[1;32mC:\\ProgramData\\Anaconda3\\envs\\carnd-term1-gpu\\lib\\site-packages\\tensorflow\\python\\client\\session.py\u001b[0m in \u001b[0;36m_do_call\u001b[1;34m(self, fn, *args)\u001b[0m\n\u001b[0;32m   1050\u001b[0m         \u001b[1;32mexcept\u001b[0m \u001b[0mKeyError\u001b[0m\u001b[1;33m:\u001b[0m\u001b[1;33m\u001b[0m\u001b[0m\n\u001b[0;32m   1051\u001b[0m           \u001b[1;32mpass\u001b[0m\u001b[1;33m\u001b[0m\u001b[0m\n\u001b[1;32m-> 1052\u001b[1;33m       \u001b[1;32mraise\u001b[0m \u001b[0mtype\u001b[0m\u001b[1;33m(\u001b[0m\u001b[0me\u001b[0m\u001b[1;33m)\u001b[0m\u001b[1;33m(\u001b[0m\u001b[0mnode_def\u001b[0m\u001b[1;33m,\u001b[0m \u001b[0mop\u001b[0m\u001b[1;33m,\u001b[0m \u001b[0mmessage\u001b[0m\u001b[1;33m)\u001b[0m\u001b[1;33m\u001b[0m\u001b[0m\n\u001b[0m\u001b[0;32m   1053\u001b[0m \u001b[1;33m\u001b[0m\u001b[0m\n\u001b[0;32m   1054\u001b[0m   \u001b[1;32mdef\u001b[0m \u001b[0m_extend_graph\u001b[0m\u001b[1;33m(\u001b[0m\u001b[0mself\u001b[0m\u001b[1;33m)\u001b[0m\u001b[1;33m:\u001b[0m\u001b[1;33m\u001b[0m\u001b[0m\n",
      "\u001b[1;31mInvalidArgumentError\u001b[0m: You must feed a value for placeholder tensor 'Placeholder_2' with dtype float\n\t [[Node: Placeholder_2 = Placeholder[dtype=DT_FLOAT, shape=[], _device=\"/job:localhost/replica:0/task:0/gpu:0\"]()]]\n\nCaused by op 'Placeholder_2', defined at:\n  File \"C:\\ProgramData\\Anaconda3\\envs\\carnd-term1-gpu\\lib\\runpy.py\", line 184, in _run_module_as_main\n    \"__main__\", mod_spec)\n  File \"C:\\ProgramData\\Anaconda3\\envs\\carnd-term1-gpu\\lib\\runpy.py\", line 85, in _run_code\n    exec(code, run_globals)\n  File \"C:\\ProgramData\\Anaconda3\\envs\\carnd-term1-gpu\\lib\\site-packages\\ipykernel_launcher.py\", line 16, in <module>\n    app.launch_new_instance()\n  File \"C:\\ProgramData\\Anaconda3\\envs\\carnd-term1-gpu\\lib\\site-packages\\traitlets\\config\\application.py\", line 658, in launch_instance\n    app.start()\n  File \"C:\\ProgramData\\Anaconda3\\envs\\carnd-term1-gpu\\lib\\site-packages\\ipykernel\\kernelapp.py\", line 477, in start\n    ioloop.IOLoop.instance().start()\n  File \"C:\\ProgramData\\Anaconda3\\envs\\carnd-term1-gpu\\lib\\site-packages\\zmq\\eventloop\\ioloop.py\", line 177, in start\n    super(ZMQIOLoop, self).start()\n  File \"C:\\ProgramData\\Anaconda3\\envs\\carnd-term1-gpu\\lib\\site-packages\\tornado\\ioloop.py\", line 888, in start\n    handler_func(fd_obj, events)\n  File \"C:\\ProgramData\\Anaconda3\\envs\\carnd-term1-gpu\\lib\\site-packages\\tornado\\stack_context.py\", line 277, in null_wrapper\n    return fn(*args, **kwargs)\n  File \"C:\\ProgramData\\Anaconda3\\envs\\carnd-term1-gpu\\lib\\site-packages\\zmq\\eventloop\\zmqstream.py\", line 440, in _handle_events\n    self._handle_recv()\n  File \"C:\\ProgramData\\Anaconda3\\envs\\carnd-term1-gpu\\lib\\site-packages\\zmq\\eventloop\\zmqstream.py\", line 472, in _handle_recv\n    self._run_callback(callback, msg)\n  File \"C:\\ProgramData\\Anaconda3\\envs\\carnd-term1-gpu\\lib\\site-packages\\zmq\\eventloop\\zmqstream.py\", line 414, in _run_callback\n    callback(*args, **kwargs)\n  File \"C:\\ProgramData\\Anaconda3\\envs\\carnd-term1-gpu\\lib\\site-packages\\tornado\\stack_context.py\", line 277, in null_wrapper\n    return fn(*args, **kwargs)\n  File \"C:\\ProgramData\\Anaconda3\\envs\\carnd-term1-gpu\\lib\\site-packages\\ipykernel\\kernelbase.py\", line 283, in dispatcher\n    return self.dispatch_shell(stream, msg)\n  File \"C:\\ProgramData\\Anaconda3\\envs\\carnd-term1-gpu\\lib\\site-packages\\ipykernel\\kernelbase.py\", line 235, in dispatch_shell\n    handler(stream, idents, msg)\n  File \"C:\\ProgramData\\Anaconda3\\envs\\carnd-term1-gpu\\lib\\site-packages\\ipykernel\\kernelbase.py\", line 399, in execute_request\n    user_expressions, allow_stdin)\n  File \"C:\\ProgramData\\Anaconda3\\envs\\carnd-term1-gpu\\lib\\site-packages\\ipykernel\\ipkernel.py\", line 196, in do_execute\n    res = shell.run_cell(code, store_history=store_history, silent=silent)\n  File \"C:\\ProgramData\\Anaconda3\\envs\\carnd-term1-gpu\\lib\\site-packages\\ipykernel\\zmqshell.py\", line 533, in run_cell\n    return super(ZMQInteractiveShell, self).run_cell(*args, **kwargs)\n  File \"C:\\ProgramData\\Anaconda3\\envs\\carnd-term1-gpu\\lib\\site-packages\\IPython\\core\\interactiveshell.py\", line 2728, in run_cell\n    interactivity=interactivity, compiler=compiler, result=result)\n  File \"C:\\ProgramData\\Anaconda3\\envs\\carnd-term1-gpu\\lib\\site-packages\\IPython\\core\\interactiveshell.py\", line 2850, in run_ast_nodes\n    if self.run_code(code, result):\n  File \"C:\\ProgramData\\Anaconda3\\envs\\carnd-term1-gpu\\lib\\site-packages\\IPython\\core\\interactiveshell.py\", line 2910, in run_code\n    exec(code_obj, self.user_global_ns, self.user_ns)\n  File \"<ipython-input-12-d81b13bbe87e>\", line 6, in <module>\n    new_saver = tf.train.import_meta_graph('TrafficSignClassifier.meta')\n  File \"C:\\ProgramData\\Anaconda3\\envs\\carnd-term1-gpu\\lib\\site-packages\\tensorflow\\python\\training\\saver.py\", line 1595, in import_meta_graph\n    **kwargs)\n  File \"C:\\ProgramData\\Anaconda3\\envs\\carnd-term1-gpu\\lib\\site-packages\\tensorflow\\python\\framework\\meta_graph.py\", line 499, in import_scoped_meta_graph\n    producer_op_list=producer_op_list)\n  File \"C:\\ProgramData\\Anaconda3\\envs\\carnd-term1-gpu\\lib\\site-packages\\tensorflow\\python\\framework\\importer.py\", line 308, in import_graph_def\n    op_def=op_def)\n  File \"C:\\ProgramData\\Anaconda3\\envs\\carnd-term1-gpu\\lib\\site-packages\\tensorflow\\python\\framework\\ops.py\", line 2336, in create_op\n    original_op=self._default_original_op, op_def=op_def)\n  File \"C:\\ProgramData\\Anaconda3\\envs\\carnd-term1-gpu\\lib\\site-packages\\tensorflow\\python\\framework\\ops.py\", line 1228, in __init__\n    self._traceback = _extract_stack()\n\nInvalidArgumentError (see above for traceback): You must feed a value for placeholder tensor 'Placeholder_2' with dtype float\n\t [[Node: Placeholder_2 = Placeholder[dtype=DT_FLOAT, shape=[], _device=\"/job:localhost/replica:0/task:0/gpu:0\"]()]]\n"
     ]
    }
   ],
   "source": [
    "\n",
    "image = X_train[index:index]\n",
    "\n",
    "with tf.Session() as sess:\n",
    "    #sess.run(tf.global_variables_initializer())\n",
    "    new_saver = tf.train.import_meta_graph('TrafficSignClassifier.meta')\n",
    "    new_saver.restore(sess, tf.train.latest_checkpoint('.'))\n",
    "    Tensor_names =[tensor.name for tensor in tf.get_default_graph().as_graph_def().node]\n",
    "    Tensor_operations = [tensor.op for tensor in tf.get_default_graph().as_graph_def().node]\n",
    "    Conv2D = tf.get_default_graph().get_tensor_by_name('Conv2D:0')\n",
    "    outputFeatureMap(image,Conv2D_1_1)\n"
   ]
  },
  {
   "cell_type": "code",
   "execution_count": 37,
   "metadata": {},
   "outputs": [
    {
     "name": "stdout",
     "output_type": "stream",
     "text": [
      "['Placeholder', 'Placeholder', 'Const', 'Const', 'Const', 'OneHot', 'Const', 'Const', 'Const', 'TruncatedNormal', 'Mul', 'Add', 'VariableV2', 'Assign', 'Identity', 'Const', 'Const', 'Const', 'TruncatedNormal', 'Mul', 'Add', 'VariableV2', 'Assign', 'Identity', 'Const', 'Const', 'Const', 'TruncatedNormal', 'Mul', 'Add', 'VariableV2', 'Assign', 'Identity', 'Const', 'Const', 'Const', 'TruncatedNormal', 'Mul', 'Add', 'VariableV2', 'Assign', 'Identity', 'Const', 'Const', 'Const', 'TruncatedNormal', 'Mul', 'Add', 'VariableV2', 'Assign', 'Identity', 'Const', 'VariableV2', 'Assign', 'Identity', 'Const', 'VariableV2', 'Assign', 'Identity', 'Const', 'VariableV2', 'Assign', 'Identity', 'Const', 'VariableV2', 'Assign', 'Identity', 'Const', 'VariableV2', 'Assign', 'Identity', 'Conv2D', 'BiasAdd', 'Relu', 'MaxPool', 'Conv2D', 'BiasAdd', 'Relu', 'MaxPool', 'Shape', 'Const', 'Const', 'Slice', 'Const', 'Const', 'Slice', 'Const', 'Prod', 'Const', 'ExpandDims', 'Const', 'ConcatV2', 'Reshape', 'MatMul', 'Add', 'Relu', 'MatMul', 'Add', 'Relu', 'MatMul', 'Add', 'Const', 'Shape', 'Const', 'Shape', 'Const', 'Sub', 'Pack', 'Const', 'Slice', 'Const', 'Const', 'ConcatV2', 'Reshape', 'Rank', 'Shape', 'Const', 'Sub', 'Pack', 'Const', 'Slice', 'Const', 'Const', 'ConcatV2', 'Reshape', 'SoftmaxCrossEntropyWithLogits', 'Const', 'Sub', 'Const', 'Pack', 'Slice', 'Reshape', 'Const', 'Mean', 'Const', 'Const', 'Fill', 'Const', 'Reshape', 'Shape', 'Tile', 'Shape', 'Const', 'Const', 'Prod', 'Const', 'Prod', 'Const', 'Maximum', 'FloorDiv', 'Cast', 'RealDiv', 'Shape', 'Reshape', 'ZerosLike', 'Const', 'ExpandDims', 'Mul', 'Shape', 'Reshape', 'Shape', 'Const', 'BroadcastGradientArgs', 'Sum', 'Reshape', 'Sum', 'Reshape', 'NoOp', 'Identity', 'Identity', 'MatMul', 'MatMul', 'NoOp', 'Identity', 'Identity', 'ReluGrad', 'Shape', 'Const', 'BroadcastGradientArgs', 'Sum', 'Reshape', 'Sum', 'Reshape', 'NoOp', 'Identity', 'Identity', 'MatMul', 'MatMul', 'NoOp', 'Identity', 'Identity', 'ReluGrad', 'Shape', 'Const', 'BroadcastGradientArgs', 'Sum', 'Reshape', 'Sum', 'Reshape', 'NoOp', 'Identity', 'Identity', 'MatMul', 'MatMul', 'NoOp', 'Identity', 'Identity', 'Shape', 'Reshape', 'MaxPoolGrad', 'ReluGrad', 'BiasAddGrad', 'NoOp', 'Identity', 'Identity', 'Shape', 'Conv2DBackpropInput', 'Const', 'Conv2DBackpropFilter', 'NoOp', 'Identity', 'Identity', 'MaxPoolGrad', 'ReluGrad', 'BiasAddGrad', 'NoOp', 'Identity', 'Identity', 'Shape', 'Conv2DBackpropInput', 'Const', 'Conv2DBackpropFilter', 'NoOp', 'Identity', 'Identity', 'Const', 'VariableV2', 'Assign', 'Identity', 'Const', 'VariableV2', 'Assign', 'Identity', 'Const', 'VariableV2', 'Assign', 'Identity', 'Const', 'VariableV2', 'Assign', 'Identity', 'Const', 'VariableV2', 'Assign', 'Identity', 'Const', 'VariableV2', 'Assign', 'Identity', 'Const', 'VariableV2', 'Assign', 'Identity', 'Const', 'VariableV2', 'Assign', 'Identity', 'Const', 'VariableV2', 'Assign', 'Identity', 'Const', 'VariableV2', 'Assign', 'Identity', 'Const', 'VariableV2', 'Assign', 'Identity', 'Const', 'VariableV2', 'Assign', 'Identity', 'Const', 'VariableV2', 'Assign', 'Identity', 'Const', 'VariableV2', 'Assign', 'Identity', 'Const', 'VariableV2', 'Assign', 'Identity', 'Const', 'VariableV2', 'Assign', 'Identity', 'Const', 'VariableV2', 'Assign', 'Identity', 'Const', 'VariableV2', 'Assign', 'Identity', 'Const', 'VariableV2', 'Assign', 'Identity', 'Const', 'VariableV2', 'Assign', 'Identity', 'Const', 'VariableV2', 'Assign', 'Identity', 'Const', 'VariableV2', 'Assign', 'Identity', 'Const', 'Const', 'Const', 'Const', 'ApplyAdam', 'ApplyAdam', 'ApplyAdam', 'ApplyAdam', 'ApplyAdam', 'ApplyAdam', 'ApplyAdam', 'ApplyAdam', 'ApplyAdam', 'ApplyAdam', 'Mul', 'Assign', 'Mul', 'Assign', 'NoOp', 'Const', 'ArgMax', 'Const', 'ArgMax', 'Equal', 'Cast', 'Rank', 'Const', 'Const', 'Range', 'Mean', 'Const', 'Const', 'Const', 'SaveV2', 'Identity', 'Const', 'Const', 'RestoreV2', 'Assign', 'Const', 'Const', 'RestoreV2', 'Assign', 'Const', 'Const', 'RestoreV2', 'Assign', 'Const', 'Const', 'RestoreV2', 'Assign', 'Const', 'Const', 'RestoreV2', 'Assign', 'Const', 'Const', 'RestoreV2', 'Assign', 'Const', 'Const', 'RestoreV2', 'Assign', 'Const', 'Const', 'RestoreV2', 'Assign', 'Const', 'Const', 'RestoreV2', 'Assign', 'Const', 'Const', 'RestoreV2', 'Assign', 'Const', 'Const', 'RestoreV2', 'Assign', 'Const', 'Const', 'RestoreV2', 'Assign', 'Const', 'Const', 'RestoreV2', 'Assign', 'Const', 'Const', 'RestoreV2', 'Assign', 'Const', 'Const', 'RestoreV2', 'Assign', 'Const', 'Const', 'RestoreV2', 'Assign', 'Const', 'Const', 'RestoreV2', 'Assign', 'Const', 'Const', 'RestoreV2', 'Assign', 'Const', 'Const', 'RestoreV2', 'Assign', 'Const', 'Const', 'RestoreV2', 'Assign', 'Const', 'Const', 'RestoreV2', 'Assign', 'Const', 'Const', 'RestoreV2', 'Assign', 'Const', 'Const', 'RestoreV2', 'Assign', 'Const', 'Const', 'RestoreV2', 'Assign', 'Const', 'Const', 'RestoreV2', 'Assign', 'Const', 'Const', 'RestoreV2', 'Assign', 'Const', 'Const', 'RestoreV2', 'Assign', 'Const', 'Const', 'RestoreV2', 'Assign', 'Const', 'Const', 'RestoreV2', 'Assign', 'Const', 'Const', 'RestoreV2', 'Assign', 'Const', 'Const', 'RestoreV2', 'Assign', 'Const', 'Const', 'RestoreV2', 'Assign', 'NoOp', 'NoOp', 'NoOp', 'Placeholder', 'Placeholder', 'Const', 'Const', 'Const', 'OneHot', 'Const', 'Const', 'Const', 'TruncatedNormal', 'Mul', 'Add', 'VariableV2', 'Assign', 'Identity', 'Const', 'Const', 'Const', 'TruncatedNormal', 'Mul', 'Add', 'VariableV2', 'Assign', 'Identity', 'Const', 'Const', 'Const', 'TruncatedNormal', 'Mul', 'Add', 'VariableV2', 'Assign', 'Identity', 'Const', 'Const', 'Const', 'TruncatedNormal', 'Mul', 'Add', 'VariableV2', 'Assign', 'Identity', 'Const', 'Const', 'Const', 'TruncatedNormal', 'Mul', 'Add', 'VariableV2', 'Assign', 'Identity', 'Const', 'VariableV2', 'Assign', 'Identity', 'Const', 'VariableV2', 'Assign', 'Identity', 'Const', 'VariableV2', 'Assign', 'Identity', 'Const', 'VariableV2', 'Assign', 'Identity', 'Const', 'VariableV2', 'Assign', 'Identity', 'Conv2D', 'BiasAdd', 'Relu', 'MaxPool', 'Conv2D', 'BiasAdd', 'Relu', 'MaxPool', 'Shape', 'Const', 'Const', 'Slice', 'Const', 'Const', 'Slice', 'Const', 'Prod', 'Const', 'ExpandDims', 'Const', 'ConcatV2', 'Reshape', 'MatMul', 'Add', 'Relu', 'MatMul', 'Add', 'Relu', 'MatMul', 'Add', 'Const', 'Shape', 'Const', 'Shape', 'Const', 'Sub', 'Pack', 'Const', 'Slice', 'Const', 'Const', 'ConcatV2', 'Reshape', 'Rank', 'Shape', 'Const', 'Sub', 'Pack', 'Const', 'Slice', 'Const', 'Const', 'ConcatV2', 'Reshape', 'SoftmaxCrossEntropyWithLogits', 'Const', 'Sub', 'Const', 'Pack', 'Slice', 'Reshape', 'Const', 'Mean', 'Const', 'Const', 'Fill', 'Const', 'Reshape', 'Shape', 'Tile', 'Shape', 'Const', 'Const', 'Prod', 'Const', 'Prod', 'Const', 'Maximum', 'FloorDiv', 'Cast', 'RealDiv', 'Shape', 'Reshape', 'ZerosLike', 'Const', 'ExpandDims', 'Mul', 'Shape', 'Reshape', 'Shape', 'Const', 'BroadcastGradientArgs', 'Sum', 'Reshape', 'Sum', 'Reshape', 'NoOp', 'Identity', 'Identity', 'MatMul', 'MatMul', 'NoOp', 'Identity', 'Identity', 'ReluGrad', 'Shape', 'Const', 'BroadcastGradientArgs', 'Sum', 'Reshape', 'Sum', 'Reshape', 'NoOp', 'Identity', 'Identity', 'MatMul', 'MatMul', 'NoOp', 'Identity', 'Identity', 'ReluGrad', 'Shape', 'Const', 'BroadcastGradientArgs', 'Sum', 'Reshape', 'Sum', 'Reshape', 'NoOp', 'Identity', 'Identity', 'MatMul', 'MatMul', 'NoOp', 'Identity', 'Identity', 'Shape', 'Reshape', 'MaxPoolGrad', 'ReluGrad', 'BiasAddGrad', 'NoOp', 'Identity', 'Identity', 'Shape', 'Conv2DBackpropInput', 'Const', 'Conv2DBackpropFilter', 'NoOp', 'Identity', 'Identity', 'MaxPoolGrad', 'ReluGrad', 'BiasAddGrad', 'NoOp', 'Identity', 'Identity', 'Shape', 'Conv2DBackpropInput', 'Const', 'Conv2DBackpropFilter', 'NoOp', 'Identity', 'Identity', 'Const', 'VariableV2', 'Assign', 'Identity', 'Const', 'VariableV2', 'Assign', 'Identity', 'Const', 'VariableV2', 'Assign', 'Identity', 'Const', 'VariableV2', 'Assign', 'Identity', 'Const', 'VariableV2', 'Assign', 'Identity', 'Const', 'VariableV2', 'Assign', 'Identity', 'Const', 'VariableV2', 'Assign', 'Identity', 'Const', 'VariableV2', 'Assign', 'Identity', 'Const', 'VariableV2', 'Assign', 'Identity', 'Const', 'VariableV2', 'Assign', 'Identity', 'Const', 'VariableV2', 'Assign', 'Identity', 'Const', 'VariableV2', 'Assign', 'Identity', 'Const', 'VariableV2', 'Assign', 'Identity', 'Const', 'VariableV2', 'Assign', 'Identity', 'Const', 'VariableV2', 'Assign', 'Identity', 'Const', 'VariableV2', 'Assign', 'Identity', 'Const', 'VariableV2', 'Assign', 'Identity', 'Const', 'VariableV2', 'Assign', 'Identity', 'Const', 'VariableV2', 'Assign', 'Identity', 'Const', 'VariableV2', 'Assign', 'Identity', 'Const', 'VariableV2', 'Assign', 'Identity', 'Const', 'VariableV2', 'Assign', 'Identity', 'Const', 'Const', 'Const', 'Const', 'ApplyAdam', 'ApplyAdam', 'ApplyAdam', 'ApplyAdam', 'ApplyAdam', 'ApplyAdam', 'ApplyAdam', 'ApplyAdam', 'ApplyAdam', 'ApplyAdam', 'Mul', 'Assign', 'Mul', 'Assign', 'NoOp', 'Const', 'ArgMax', 'Const', 'ArgMax', 'Equal', 'Cast', 'Rank', 'Const', 'Const', 'Range', 'Mean', 'Const', 'Const', 'Const', 'SaveV2', 'Identity', 'Const', 'Const', 'RestoreV2', 'Assign', 'Const', 'Const', 'RestoreV2', 'Assign', 'Const', 'Const', 'RestoreV2', 'Assign', 'Const', 'Const', 'RestoreV2', 'Assign', 'Const', 'Const', 'RestoreV2', 'Assign', 'Const', 'Const', 'RestoreV2', 'Assign', 'Const', 'Const', 'RestoreV2', 'Assign', 'Const', 'Const', 'RestoreV2', 'Assign', 'Const', 'Const', 'RestoreV2', 'Assign', 'Const', 'Const', 'RestoreV2', 'Assign', 'Const', 'Const', 'RestoreV2', 'Assign', 'Const', 'Const', 'RestoreV2', 'Assign', 'Const', 'Const', 'RestoreV2', 'Assign', 'Const', 'Const', 'RestoreV2', 'Assign', 'Const', 'Const', 'RestoreV2', 'Assign', 'Const', 'Const', 'RestoreV2', 'Assign', 'Const', 'Const', 'RestoreV2', 'Assign', 'Const', 'Const', 'RestoreV2', 'Assign', 'Const', 'Const', 'RestoreV2', 'Assign', 'Const', 'Const', 'RestoreV2', 'Assign', 'Const', 'Const', 'RestoreV2', 'Assign', 'Const', 'Const', 'RestoreV2', 'Assign', 'Const', 'Const', 'RestoreV2', 'Assign', 'Const', 'Const', 'RestoreV2', 'Assign', 'Const', 'Const', 'RestoreV2', 'Assign', 'Const', 'Const', 'RestoreV2', 'Assign', 'Const', 'Const', 'RestoreV2', 'Assign', 'Const', 'Const', 'RestoreV2', 'Assign', 'Const', 'Const', 'RestoreV2', 'Assign', 'Const', 'Const', 'RestoreV2', 'Assign', 'Const', 'Const', 'RestoreV2', 'Assign', 'Const', 'Const', 'RestoreV2', 'Assign', 'NoOp', 'NoOp', 'NoOp', 'Placeholder', 'Placeholder', 'Const', 'Const', 'Const', 'OneHot', 'Const', 'Const', 'Const', 'TruncatedNormal', 'Mul', 'Add', 'VariableV2', 'Assign', 'Identity', 'Const', 'Const', 'Const', 'TruncatedNormal', 'Mul', 'Add', 'VariableV2', 'Assign', 'Identity', 'Const', 'Const', 'Const', 'TruncatedNormal', 'Mul', 'Add', 'VariableV2', 'Assign', 'Identity', 'Const', 'Const', 'Const', 'TruncatedNormal', 'Mul', 'Add', 'VariableV2', 'Assign', 'Identity', 'Const', 'Const', 'Const', 'TruncatedNormal', 'Mul', 'Add', 'VariableV2', 'Assign', 'Identity', 'Const', 'VariableV2', 'Assign', 'Identity', 'Const', 'VariableV2', 'Assign', 'Identity', 'Const', 'VariableV2', 'Assign', 'Identity', 'Const', 'VariableV2', 'Assign', 'Identity', 'Const', 'VariableV2', 'Assign', 'Identity', 'Conv2D', 'BiasAdd', 'Relu', 'MaxPool', 'Conv2D', 'BiasAdd', 'Relu', 'MaxPool', 'Shape', 'Const', 'Const', 'Slice', 'Const', 'Const', 'Slice', 'Const', 'Prod', 'Const', 'ExpandDims', 'Const', 'ConcatV2', 'Reshape', 'MatMul', 'Add', 'Relu', 'MatMul', 'Add', 'Relu', 'MatMul', 'Add', 'Const', 'Shape', 'Const', 'Shape', 'Const', 'Sub', 'Pack', 'Const', 'Slice', 'Const', 'Const', 'ConcatV2', 'Reshape', 'Rank', 'Shape', 'Const', 'Sub', 'Pack', 'Const', 'Slice', 'Const', 'Const', 'ConcatV2', 'Reshape', 'SoftmaxCrossEntropyWithLogits', 'Const', 'Sub', 'Const', 'Pack', 'Slice', 'Reshape', 'Const', 'Mean', 'Const', 'Const', 'Fill', 'Const', 'Reshape', 'Shape', 'Tile', 'Shape', 'Const', 'Const', 'Prod', 'Const', 'Prod', 'Const', 'Maximum', 'FloorDiv', 'Cast', 'RealDiv', 'Shape', 'Reshape', 'ZerosLike', 'Const', 'ExpandDims', 'Mul', 'Shape', 'Reshape', 'Shape', 'Const', 'BroadcastGradientArgs', 'Sum', 'Reshape', 'Sum', 'Reshape', 'NoOp', 'Identity', 'Identity', 'MatMul', 'MatMul', 'NoOp', 'Identity', 'Identity', 'ReluGrad', 'Shape', 'Const', 'BroadcastGradientArgs', 'Sum', 'Reshape', 'Sum', 'Reshape', 'NoOp', 'Identity', 'Identity', 'MatMul', 'MatMul', 'NoOp', 'Identity', 'Identity', 'ReluGrad', 'Shape', 'Const', 'BroadcastGradientArgs', 'Sum', 'Reshape', 'Sum', 'Reshape', 'NoOp', 'Identity', 'Identity', 'MatMul', 'MatMul', 'NoOp', 'Identity', 'Identity', 'Shape', 'Reshape', 'MaxPoolGrad', 'ReluGrad', 'BiasAddGrad', 'NoOp', 'Identity', 'Identity', 'Shape', 'Conv2DBackpropInput', 'Const', 'Conv2DBackpropFilter', 'NoOp', 'Identity', 'Identity', 'MaxPoolGrad', 'ReluGrad', 'BiasAddGrad', 'NoOp', 'Identity', 'Identity', 'Shape', 'Conv2DBackpropInput', 'Const', 'Conv2DBackpropFilter', 'NoOp', 'Identity', 'Identity', 'Const', 'VariableV2', 'Assign', 'Identity', 'Const', 'VariableV2', 'Assign', 'Identity', 'Const', 'VariableV2', 'Assign', 'Identity', 'Const', 'VariableV2', 'Assign', 'Identity', 'Const', 'VariableV2', 'Assign', 'Identity', 'Const', 'VariableV2', 'Assign', 'Identity', 'Const', 'VariableV2', 'Assign', 'Identity', 'Const', 'VariableV2', 'Assign', 'Identity', 'Const', 'VariableV2', 'Assign', 'Identity', 'Const', 'VariableV2', 'Assign', 'Identity', 'Const', 'VariableV2', 'Assign', 'Identity', 'Const', 'VariableV2', 'Assign', 'Identity', 'Const', 'VariableV2', 'Assign', 'Identity', 'Const', 'VariableV2', 'Assign', 'Identity', 'Const', 'VariableV2', 'Assign', 'Identity', 'Const', 'VariableV2', 'Assign', 'Identity', 'Const', 'VariableV2', 'Assign', 'Identity', 'Const', 'VariableV2', 'Assign', 'Identity', 'Const', 'VariableV2', 'Assign', 'Identity', 'Const', 'VariableV2', 'Assign', 'Identity', 'Const', 'VariableV2', 'Assign', 'Identity', 'Const', 'VariableV2', 'Assign', 'Identity', 'Const', 'Const', 'Const', 'Const', 'ApplyAdam', 'ApplyAdam', 'ApplyAdam', 'ApplyAdam', 'ApplyAdam', 'ApplyAdam', 'ApplyAdam', 'ApplyAdam', 'ApplyAdam', 'ApplyAdam', 'Mul', 'Assign', 'Mul', 'Assign', 'NoOp', 'Const', 'ArgMax', 'Const', 'ArgMax', 'Equal', 'Cast', 'Rank', 'Const', 'Const', 'Range', 'Mean', 'Const', 'Const', 'Const', 'SaveV2', 'Identity', 'Const', 'Const', 'RestoreV2', 'Assign', 'Const', 'Const', 'RestoreV2', 'Assign', 'Const', 'Const', 'RestoreV2', 'Assign', 'Const', 'Const', 'RestoreV2', 'Assign', 'Const', 'Const', 'RestoreV2', 'Assign', 'Const', 'Const', 'RestoreV2', 'Assign', 'Const', 'Const', 'RestoreV2', 'Assign', 'Const', 'Const', 'RestoreV2', 'Assign', 'Const', 'Const', 'RestoreV2', 'Assign', 'Const', 'Const', 'RestoreV2', 'Assign', 'Const', 'Const', 'RestoreV2', 'Assign', 'Const', 'Const', 'RestoreV2', 'Assign', 'Const', 'Const', 'RestoreV2', 'Assign', 'Const', 'Const', 'RestoreV2', 'Assign', 'Const', 'Const', 'RestoreV2', 'Assign', 'Const', 'Const', 'RestoreV2', 'Assign', 'Const', 'Const', 'RestoreV2', 'Assign', 'Const', 'Const', 'RestoreV2', 'Assign', 'Const', 'Const', 'RestoreV2', 'Assign', 'Const', 'Const', 'RestoreV2', 'Assign', 'Const', 'Const', 'RestoreV2', 'Assign', 'Const', 'Const', 'RestoreV2', 'Assign', 'Const', 'Const', 'RestoreV2', 'Assign', 'Const', 'Const', 'RestoreV2', 'Assign', 'Const', 'Const', 'RestoreV2', 'Assign', 'Const', 'Const', 'RestoreV2', 'Assign', 'Const', 'Const', 'RestoreV2', 'Assign', 'Const', 'Const', 'RestoreV2', 'Assign', 'Const', 'Const', 'RestoreV2', 'Assign', 'Const', 'Const', 'RestoreV2', 'Assign', 'Const', 'Const', 'RestoreV2', 'Assign', 'Const', 'Const', 'RestoreV2', 'Assign', 'NoOp', 'NoOp', 'NoOp', 'Placeholder', 'Placeholder', 'Const', 'Const', 'Const', 'OneHot', 'Const', 'Const', 'Const', 'TruncatedNormal', 'Mul', 'Add', 'VariableV2', 'Assign', 'Identity', 'Const', 'Const', 'Const', 'TruncatedNormal', 'Mul', 'Add', 'VariableV2', 'Assign', 'Identity', 'Const', 'Const', 'Const', 'TruncatedNormal', 'Mul', 'Add', 'VariableV2', 'Assign', 'Identity', 'Const', 'Const', 'Const', 'TruncatedNormal', 'Mul', 'Add', 'VariableV2', 'Assign', 'Identity', 'Const', 'Const', 'Const', 'TruncatedNormal', 'Mul', 'Add', 'VariableV2', 'Assign', 'Identity', 'Const', 'VariableV2', 'Assign', 'Identity', 'Const', 'VariableV2', 'Assign', 'Identity', 'Const', 'VariableV2', 'Assign', 'Identity', 'Const', 'VariableV2', 'Assign', 'Identity', 'Const', 'VariableV2', 'Assign', 'Identity', 'Conv2D', 'BiasAdd', 'Relu', 'MaxPool', 'Conv2D', 'BiasAdd', 'Relu', 'MaxPool', 'Shape', 'Const', 'Const', 'Slice', 'Const', 'Const', 'Slice', 'Const', 'Prod', 'Const', 'ExpandDims', 'Const', 'ConcatV2', 'Reshape', 'MatMul', 'Add', 'Relu', 'MatMul', 'Add', 'Relu', 'MatMul', 'Add', 'Const', 'Shape', 'Const', 'Shape', 'Const', 'Sub', 'Pack', 'Const', 'Slice', 'Const', 'Const', 'ConcatV2', 'Reshape', 'Rank', 'Shape', 'Const', 'Sub', 'Pack', 'Const', 'Slice', 'Const', 'Const', 'ConcatV2', 'Reshape', 'SoftmaxCrossEntropyWithLogits', 'Const', 'Sub', 'Const', 'Pack', 'Slice', 'Reshape', 'Const', 'Mean', 'Const', 'Const', 'Fill', 'Const', 'Reshape', 'Shape', 'Tile', 'Shape', 'Const', 'Const', 'Prod', 'Const', 'Prod', 'Const', 'Maximum', 'FloorDiv', 'Cast', 'RealDiv', 'Shape', 'Reshape', 'ZerosLike', 'Const', 'ExpandDims', 'Mul', 'Shape', 'Reshape', 'Shape', 'Const', 'BroadcastGradientArgs', 'Sum', 'Reshape', 'Sum', 'Reshape', 'NoOp', 'Identity', 'Identity', 'MatMul', 'MatMul', 'NoOp', 'Identity', 'Identity', 'ReluGrad', 'Shape', 'Const', 'BroadcastGradientArgs', 'Sum', 'Reshape', 'Sum', 'Reshape', 'NoOp', 'Identity', 'Identity', 'MatMul', 'MatMul', 'NoOp', 'Identity', 'Identity', 'ReluGrad', 'Shape', 'Const', 'BroadcastGradientArgs', 'Sum', 'Reshape', 'Sum', 'Reshape', 'NoOp', 'Identity', 'Identity', 'MatMul', 'MatMul', 'NoOp', 'Identity', 'Identity', 'Shape', 'Reshape', 'MaxPoolGrad', 'ReluGrad', 'BiasAddGrad', 'NoOp', 'Identity', 'Identity', 'Shape', 'Conv2DBackpropInput', 'Const', 'Conv2DBackpropFilter', 'NoOp', 'Identity', 'Identity', 'MaxPoolGrad', 'ReluGrad', 'BiasAddGrad', 'NoOp', 'Identity', 'Identity', 'Shape', 'Conv2DBackpropInput', 'Const', 'Conv2DBackpropFilter', 'NoOp', 'Identity', 'Identity', 'Const', 'VariableV2', 'Assign', 'Identity', 'Const', 'VariableV2', 'Assign', 'Identity', 'Const', 'VariableV2', 'Assign', 'Identity', 'Const', 'VariableV2', 'Assign', 'Identity', 'Const', 'VariableV2', 'Assign', 'Identity', 'Const', 'VariableV2', 'Assign', 'Identity', 'Const', 'VariableV2', 'Assign', 'Identity', 'Const', 'VariableV2', 'Assign', 'Identity', 'Const', 'VariableV2', 'Assign', 'Identity', 'Const', 'VariableV2', 'Assign', 'Identity', 'Const', 'VariableV2', 'Assign', 'Identity', 'Const', 'VariableV2', 'Assign', 'Identity', 'Const', 'VariableV2', 'Assign', 'Identity', 'Const', 'VariableV2', 'Assign', 'Identity', 'Const', 'VariableV2', 'Assign', 'Identity', 'Const', 'VariableV2', 'Assign', 'Identity', 'Const', 'VariableV2', 'Assign', 'Identity', 'Const', 'VariableV2', 'Assign', 'Identity', 'Const', 'VariableV2', 'Assign', 'Identity', 'Const', 'VariableV2', 'Assign', 'Identity', 'Const', 'VariableV2', 'Assign', 'Identity', 'Const', 'VariableV2', 'Assign', 'Identity', 'Const', 'Const', 'Const', 'Const', 'ApplyAdam', 'ApplyAdam', 'ApplyAdam', 'ApplyAdam', 'ApplyAdam', 'ApplyAdam', 'ApplyAdam', 'ApplyAdam', 'ApplyAdam', 'ApplyAdam', 'Mul', 'Assign', 'Mul', 'Assign', 'NoOp', 'Const', 'ArgMax', 'Const', 'ArgMax', 'Equal', 'Cast', 'Rank', 'Const', 'Const', 'Range', 'Mean', 'Const', 'Const', 'Const', 'SaveV2', 'Identity', 'Const', 'Const', 'RestoreV2', 'Assign', 'Const', 'Const', 'RestoreV2', 'Assign', 'Const', 'Const', 'RestoreV2', 'Assign', 'Const', 'Const', 'RestoreV2', 'Assign', 'Const', 'Const', 'RestoreV2', 'Assign', 'Const', 'Const', 'RestoreV2', 'Assign', 'Const', 'Const', 'RestoreV2', 'Assign', 'Const', 'Const', 'RestoreV2', 'Assign', 'Const', 'Const', 'RestoreV2', 'Assign', 'Const', 'Const', 'RestoreV2', 'Assign', 'Const', 'Const', 'RestoreV2', 'Assign', 'Const', 'Const', 'RestoreV2', 'Assign', 'Const', 'Const', 'RestoreV2', 'Assign', 'Const', 'Const', 'RestoreV2', 'Assign', 'Const', 'Const', 'RestoreV2', 'Assign', 'Const', 'Const', 'RestoreV2', 'Assign', 'Const', 'Const', 'RestoreV2', 'Assign', 'Const', 'Const', 'RestoreV2', 'Assign', 'Const', 'Const', 'RestoreV2', 'Assign', 'Const', 'Const', 'RestoreV2', 'Assign', 'Const', 'Const', 'RestoreV2', 'Assign', 'Const', 'Const', 'RestoreV2', 'Assign', 'Const', 'Const', 'RestoreV2', 'Assign', 'Const', 'Const', 'RestoreV2', 'Assign', 'Const', 'Const', 'RestoreV2', 'Assign', 'Const', 'Const', 'RestoreV2', 'Assign', 'Const', 'Const', 'RestoreV2', 'Assign', 'Const', 'Const', 'RestoreV2', 'Assign', 'Const', 'Const', 'RestoreV2', 'Assign', 'Const', 'Const', 'RestoreV2', 'Assign', 'Const', 'Const', 'RestoreV2', 'Assign', 'Const', 'Const', 'RestoreV2', 'Assign', 'NoOp', 'NoOp', 'NoOp', 'Placeholder', 'Placeholder', 'Const', 'Const', 'Const', 'OneHot', 'Const', 'Const', 'Const', 'TruncatedNormal', 'Mul', 'Add', 'VariableV2', 'Assign', 'Identity', 'Const', 'Const', 'Const', 'TruncatedNormal', 'Mul', 'Add', 'VariableV2', 'Assign', 'Identity', 'Const', 'Const', 'Const', 'TruncatedNormal', 'Mul', 'Add', 'VariableV2', 'Assign', 'Identity', 'Const', 'Const', 'Const', 'TruncatedNormal', 'Mul', 'Add', 'VariableV2', 'Assign', 'Identity', 'Const', 'Const', 'Const', 'TruncatedNormal', 'Mul', 'Add', 'VariableV2', 'Assign', 'Identity', 'Const', 'VariableV2', 'Assign', 'Identity', 'Const', 'VariableV2', 'Assign', 'Identity', 'Const', 'VariableV2', 'Assign', 'Identity', 'Const', 'VariableV2', 'Assign', 'Identity', 'Const', 'VariableV2', 'Assign', 'Identity', 'Conv2D', 'BiasAdd', 'Relu', 'MaxPool', 'Conv2D', 'BiasAdd', 'Relu', 'MaxPool', 'Shape', 'Const', 'Const', 'Slice', 'Const', 'Const', 'Slice', 'Const', 'Prod', 'Const', 'ExpandDims', 'Const', 'ConcatV2', 'Reshape', 'MatMul', 'Add', 'Relu', 'MatMul', 'Add', 'Relu', 'MatMul', 'Add', 'Const', 'Shape', 'Const', 'Shape', 'Const', 'Sub', 'Pack', 'Const', 'Slice', 'Const', 'Const', 'ConcatV2', 'Reshape', 'Rank', 'Shape', 'Const', 'Sub', 'Pack', 'Const', 'Slice', 'Const', 'Const', 'ConcatV2', 'Reshape', 'SoftmaxCrossEntropyWithLogits', 'Const', 'Sub', 'Const', 'Pack', 'Slice', 'Reshape', 'Const', 'Mean', 'Const', 'Const', 'Fill', 'Const', 'Reshape', 'Shape', 'Tile', 'Shape', 'Const', 'Const', 'Prod', 'Const', 'Prod', 'Const', 'Maximum', 'FloorDiv', 'Cast', 'RealDiv', 'Shape', 'Reshape', 'ZerosLike', 'Const', 'ExpandDims', 'Mul', 'Shape', 'Reshape', 'Shape', 'Const', 'BroadcastGradientArgs', 'Sum', 'Reshape', 'Sum', 'Reshape', 'NoOp', 'Identity', 'Identity', 'MatMul', 'MatMul', 'NoOp', 'Identity', 'Identity', 'ReluGrad', 'Shape', 'Const', 'BroadcastGradientArgs', 'Sum', 'Reshape', 'Sum', 'Reshape', 'NoOp', 'Identity', 'Identity', 'MatMul', 'MatMul', 'NoOp', 'Identity', 'Identity', 'ReluGrad', 'Shape', 'Const', 'BroadcastGradientArgs', 'Sum', 'Reshape', 'Sum', 'Reshape', 'NoOp', 'Identity', 'Identity', 'MatMul', 'MatMul', 'NoOp', 'Identity', 'Identity', 'Shape', 'Reshape', 'MaxPoolGrad', 'ReluGrad', 'BiasAddGrad', 'NoOp', 'Identity', 'Identity', 'Shape', 'Conv2DBackpropInput', 'Const', 'Conv2DBackpropFilter', 'NoOp', 'Identity', 'Identity', 'MaxPoolGrad', 'ReluGrad', 'BiasAddGrad', 'NoOp', 'Identity', 'Identity', 'Shape', 'Conv2DBackpropInput', 'Const', 'Conv2DBackpropFilter', 'NoOp', 'Identity', 'Identity', 'Const', 'VariableV2', 'Assign', 'Identity', 'Const', 'VariableV2', 'Assign', 'Identity', 'Const', 'VariableV2', 'Assign', 'Identity', 'Const', 'VariableV2', 'Assign', 'Identity', 'Const', 'VariableV2', 'Assign', 'Identity', 'Const', 'VariableV2', 'Assign', 'Identity', 'Const', 'VariableV2', 'Assign', 'Identity', 'Const', 'VariableV2', 'Assign', 'Identity', 'Const', 'VariableV2', 'Assign', 'Identity', 'Const', 'VariableV2', 'Assign', 'Identity', 'Const', 'VariableV2', 'Assign', 'Identity', 'Const', 'VariableV2', 'Assign', 'Identity', 'Const', 'VariableV2', 'Assign', 'Identity', 'Const', 'VariableV2', 'Assign', 'Identity', 'Const', 'VariableV2', 'Assign', 'Identity', 'Const', 'VariableV2', 'Assign', 'Identity', 'Const', 'VariableV2', 'Assign', 'Identity', 'Const', 'VariableV2', 'Assign', 'Identity', 'Const', 'VariableV2', 'Assign', 'Identity', 'Const', 'VariableV2', 'Assign', 'Identity', 'Const', 'VariableV2', 'Assign', 'Identity', 'Const', 'VariableV2', 'Assign', 'Identity', 'Const', 'Const', 'Const', 'Const', 'ApplyAdam', 'ApplyAdam', 'ApplyAdam', 'ApplyAdam', 'ApplyAdam', 'ApplyAdam', 'ApplyAdam', 'ApplyAdam', 'ApplyAdam', 'ApplyAdam', 'Mul', 'Assign', 'Mul', 'Assign', 'NoOp', 'Const', 'ArgMax', 'Const', 'ArgMax', 'Equal', 'Cast', 'Rank', 'Const', 'Const', 'Range', 'Mean', 'Const', 'Const', 'Const', 'SaveV2', 'Identity', 'Const', 'Const', 'RestoreV2', 'Assign', 'Const', 'Const', 'RestoreV2', 'Assign', 'Const', 'Const', 'RestoreV2', 'Assign', 'Const', 'Const', 'RestoreV2', 'Assign', 'Const', 'Const', 'RestoreV2', 'Assign', 'Const', 'Const', 'RestoreV2', 'Assign', 'Const', 'Const', 'RestoreV2', 'Assign', 'Const', 'Const', 'RestoreV2', 'Assign', 'Const', 'Const', 'RestoreV2', 'Assign', 'Const', 'Const', 'RestoreV2', 'Assign', 'Const', 'Const', 'RestoreV2', 'Assign', 'Const', 'Const', 'RestoreV2', 'Assign', 'Const', 'Const', 'RestoreV2', 'Assign', 'Const', 'Const', 'RestoreV2', 'Assign', 'Const', 'Const', 'RestoreV2', 'Assign', 'Const', 'Const', 'RestoreV2', 'Assign', 'Const', 'Const', 'RestoreV2', 'Assign', 'Const', 'Const', 'RestoreV2', 'Assign', 'Const', 'Const', 'RestoreV2', 'Assign', 'Const', 'Const', 'RestoreV2', 'Assign', 'Const', 'Const', 'RestoreV2', 'Assign', 'Const', 'Const', 'RestoreV2', 'Assign', 'Const', 'Const', 'RestoreV2', 'Assign', 'Const', 'Const', 'RestoreV2', 'Assign', 'Const', 'Const', 'RestoreV2', 'Assign', 'Const', 'Const', 'RestoreV2', 'Assign', 'Const', 'Const', 'RestoreV2', 'Assign', 'Const', 'Const', 'RestoreV2', 'Assign', 'Const', 'Const', 'RestoreV2', 'Assign', 'Const', 'Const', 'RestoreV2', 'Assign', 'Const', 'Const', 'RestoreV2', 'Assign', 'Const', 'Const', 'RestoreV2', 'Assign', 'NoOp', 'NoOp', 'NoOp', 'Placeholder', 'Placeholder', 'Const', 'Const', 'Const', 'OneHot', 'Const', 'Const', 'Const', 'TruncatedNormal', 'Mul', 'Add', 'VariableV2', 'Assign', 'Identity', 'Const', 'Const', 'Const', 'TruncatedNormal', 'Mul', 'Add', 'VariableV2', 'Assign', 'Identity', 'Const', 'Const', 'Const', 'TruncatedNormal', 'Mul', 'Add', 'VariableV2', 'Assign', 'Identity', 'Const', 'Const', 'Const', 'TruncatedNormal', 'Mul', 'Add', 'VariableV2', 'Assign', 'Identity', 'Const', 'Const', 'Const', 'TruncatedNormal', 'Mul', 'Add', 'VariableV2', 'Assign', 'Identity', 'Const', 'VariableV2', 'Assign', 'Identity', 'Const', 'VariableV2', 'Assign', 'Identity', 'Const', 'VariableV2', 'Assign', 'Identity', 'Const', 'VariableV2', 'Assign', 'Identity', 'Const', 'VariableV2', 'Assign', 'Identity', 'Conv2D', 'BiasAdd', 'Relu', 'MaxPool', 'Conv2D', 'BiasAdd', 'Relu', 'MaxPool', 'Shape', 'Const', 'Const', 'Slice', 'Const', 'Const', 'Slice', 'Const', 'Prod', 'Const', 'ExpandDims', 'Const', 'ConcatV2', 'Reshape', 'MatMul', 'Add', 'Relu', 'MatMul', 'Add', 'Relu', 'MatMul', 'Add', 'Const', 'Shape', 'Const', 'Shape', 'Const', 'Sub', 'Pack', 'Const', 'Slice', 'Const', 'Const', 'ConcatV2', 'Reshape', 'Rank', 'Shape', 'Const', 'Sub', 'Pack', 'Const', 'Slice', 'Const', 'Const', 'ConcatV2', 'Reshape', 'SoftmaxCrossEntropyWithLogits', 'Const', 'Sub', 'Const', 'Pack', 'Slice', 'Reshape', 'Const', 'Mean', 'Const', 'Const', 'Fill', 'Const', 'Reshape', 'Shape', 'Tile', 'Shape', 'Const', 'Const', 'Prod', 'Const', 'Prod', 'Const', 'Maximum', 'FloorDiv', 'Cast', 'RealDiv', 'Shape', 'Reshape', 'ZerosLike', 'Const', 'ExpandDims', 'Mul', 'Shape', 'Reshape', 'Shape', 'Const', 'BroadcastGradientArgs', 'Sum', 'Reshape', 'Sum', 'Reshape', 'NoOp', 'Identity', 'Identity', 'MatMul', 'MatMul', 'NoOp', 'Identity', 'Identity', 'ReluGrad', 'Shape', 'Const', 'BroadcastGradientArgs', 'Sum', 'Reshape', 'Sum', 'Reshape', 'NoOp', 'Identity', 'Identity', 'MatMul', 'MatMul', 'NoOp', 'Identity', 'Identity', 'ReluGrad', 'Shape', 'Const', 'BroadcastGradientArgs', 'Sum', 'Reshape', 'Sum', 'Reshape', 'NoOp', 'Identity', 'Identity', 'MatMul', 'MatMul', 'NoOp', 'Identity', 'Identity', 'Shape', 'Reshape', 'MaxPoolGrad', 'ReluGrad', 'BiasAddGrad', 'NoOp', 'Identity', 'Identity', 'Shape', 'Conv2DBackpropInput', 'Const', 'Conv2DBackpropFilter', 'NoOp', 'Identity', 'Identity', 'MaxPoolGrad', 'ReluGrad', 'BiasAddGrad', 'NoOp', 'Identity', 'Identity', 'Shape', 'Conv2DBackpropInput', 'Const', 'Conv2DBackpropFilter', 'NoOp', 'Identity', 'Identity', 'Const', 'VariableV2', 'Assign', 'Identity', 'Const', 'VariableV2', 'Assign', 'Identity', 'Const', 'VariableV2', 'Assign', 'Identity', 'Const', 'VariableV2', 'Assign', 'Identity', 'Const', 'VariableV2', 'Assign', 'Identity', 'Const', 'VariableV2', 'Assign', 'Identity', 'Const', 'VariableV2', 'Assign', 'Identity', 'Const', 'VariableV2', 'Assign', 'Identity', 'Const', 'VariableV2', 'Assign', 'Identity', 'Const', 'VariableV2', 'Assign', 'Identity', 'Const', 'VariableV2', 'Assign', 'Identity', 'Const', 'VariableV2', 'Assign', 'Identity', 'Const', 'VariableV2', 'Assign', 'Identity', 'Const', 'VariableV2', 'Assign', 'Identity', 'Const', 'VariableV2', 'Assign', 'Identity', 'Const', 'VariableV2', 'Assign', 'Identity', 'Const', 'VariableV2', 'Assign', 'Identity', 'Const', 'VariableV2', 'Assign', 'Identity', 'Const', 'VariableV2', 'Assign', 'Identity', 'Const', 'VariableV2', 'Assign', 'Identity', 'Const', 'VariableV2', 'Assign', 'Identity', 'Const', 'VariableV2', 'Assign', 'Identity', 'Const', 'Const', 'Const', 'Const', 'ApplyAdam', 'ApplyAdam', 'ApplyAdam', 'ApplyAdam', 'ApplyAdam', 'ApplyAdam', 'ApplyAdam', 'ApplyAdam', 'ApplyAdam', 'ApplyAdam', 'Mul', 'Assign', 'Mul', 'Assign', 'NoOp', 'Const', 'ArgMax', 'Const', 'ArgMax', 'Equal', 'Cast', 'Rank', 'Const', 'Const', 'Range', 'Mean', 'Const', 'Const', 'Const', 'SaveV2', 'Identity', 'Const', 'Const', 'RestoreV2', 'Assign', 'Const', 'Const', 'RestoreV2', 'Assign', 'Const', 'Const', 'RestoreV2', 'Assign', 'Const', 'Const', 'RestoreV2', 'Assign', 'Const', 'Const', 'RestoreV2', 'Assign', 'Const', 'Const', 'RestoreV2', 'Assign', 'Const', 'Const', 'RestoreV2', 'Assign', 'Const', 'Const', 'RestoreV2', 'Assign', 'Const', 'Const', 'RestoreV2', 'Assign', 'Const', 'Const', 'RestoreV2', 'Assign', 'Const', 'Const', 'RestoreV2', 'Assign', 'Const', 'Const', 'RestoreV2', 'Assign', 'Const', 'Const', 'RestoreV2', 'Assign', 'Const', 'Const', 'RestoreV2', 'Assign', 'Const', 'Const', 'RestoreV2', 'Assign', 'Const', 'Const', 'RestoreV2', 'Assign', 'Const', 'Const', 'RestoreV2', 'Assign', 'Const', 'Const', 'RestoreV2', 'Assign', 'Const', 'Const', 'RestoreV2', 'Assign', 'Const', 'Const', 'RestoreV2', 'Assign', 'Const', 'Const', 'RestoreV2', 'Assign', 'Const', 'Const', 'RestoreV2', 'Assign', 'Const', 'Const', 'RestoreV2', 'Assign', 'Const', 'Const', 'RestoreV2', 'Assign', 'Const', 'Const', 'RestoreV2', 'Assign', 'Const', 'Const', 'RestoreV2', 'Assign', 'Const', 'Const', 'RestoreV2', 'Assign', 'Const', 'Const', 'RestoreV2', 'Assign', 'Const', 'Const', 'RestoreV2', 'Assign', 'Const', 'Const', 'RestoreV2', 'Assign', 'Const', 'Const', 'RestoreV2', 'Assign', 'Const', 'Const', 'RestoreV2', 'Assign', 'NoOp', 'NoOp', 'NoOp', 'Placeholder', 'Placeholder', 'Const', 'Const', 'Const', 'OneHot', 'Const', 'Const', 'Const', 'TruncatedNormal', 'Mul', 'Add', 'VariableV2', 'Assign', 'Identity', 'Const', 'Const', 'Const', 'TruncatedNormal', 'Mul', 'Add', 'VariableV2', 'Assign', 'Identity', 'Const', 'Const', 'Const', 'TruncatedNormal', 'Mul', 'Add', 'VariableV2', 'Assign', 'Identity', 'Const', 'Const', 'Const', 'TruncatedNormal', 'Mul', 'Add', 'VariableV2', 'Assign', 'Identity', 'Const', 'Const', 'Const', 'TruncatedNormal', 'Mul', 'Add', 'VariableV2', 'Assign', 'Identity', 'Const', 'VariableV2', 'Assign', 'Identity', 'Const', 'VariableV2', 'Assign', 'Identity', 'Const', 'VariableV2', 'Assign', 'Identity', 'Const', 'VariableV2', 'Assign', 'Identity', 'Const', 'VariableV2', 'Assign', 'Identity', 'Conv2D', 'BiasAdd', 'Relu', 'MaxPool', 'Conv2D', 'BiasAdd', 'Relu', 'MaxPool', 'Shape', 'Const', 'Const', 'Slice', 'Const', 'Const', 'Slice', 'Const', 'Prod', 'Const', 'ExpandDims', 'Const', 'ConcatV2', 'Reshape', 'MatMul', 'Add', 'Relu', 'MatMul', 'Add', 'Relu', 'MatMul', 'Add', 'Const', 'Shape', 'Const', 'Shape', 'Const', 'Sub', 'Pack', 'Const', 'Slice', 'Const', 'Const', 'ConcatV2', 'Reshape', 'Rank', 'Shape', 'Const', 'Sub', 'Pack', 'Const', 'Slice', 'Const', 'Const', 'ConcatV2', 'Reshape', 'SoftmaxCrossEntropyWithLogits', 'Const', 'Sub', 'Const', 'Pack', 'Slice', 'Reshape', 'Const', 'Mean', 'Const', 'Const', 'Fill', 'Const', 'Reshape', 'Shape', 'Tile', 'Shape', 'Const', 'Const', 'Prod', 'Const', 'Prod', 'Const', 'Maximum', 'FloorDiv', 'Cast', 'RealDiv', 'Shape', 'Reshape', 'ZerosLike', 'Const', 'ExpandDims', 'Mul', 'Shape', 'Reshape', 'Shape', 'Const', 'BroadcastGradientArgs', 'Sum', 'Reshape', 'Sum', 'Reshape', 'NoOp', 'Identity', 'Identity', 'MatMul', 'MatMul', 'NoOp', 'Identity', 'Identity', 'ReluGrad', 'Shape', 'Const', 'BroadcastGradientArgs', 'Sum', 'Reshape', 'Sum', 'Reshape', 'NoOp', 'Identity', 'Identity', 'MatMul', 'MatMul', 'NoOp', 'Identity', 'Identity', 'ReluGrad', 'Shape', 'Const', 'BroadcastGradientArgs', 'Sum', 'Reshape', 'Sum', 'Reshape', 'NoOp', 'Identity', 'Identity', 'MatMul', 'MatMul', 'NoOp', 'Identity', 'Identity', 'Shape', 'Reshape', 'MaxPoolGrad', 'ReluGrad', 'BiasAddGrad', 'NoOp', 'Identity', 'Identity', 'Shape', 'Conv2DBackpropInput', 'Const', 'Conv2DBackpropFilter', 'NoOp', 'Identity', 'Identity', 'MaxPoolGrad', 'ReluGrad', 'BiasAddGrad', 'NoOp', 'Identity', 'Identity', 'Shape', 'Conv2DBackpropInput', 'Const', 'Conv2DBackpropFilter', 'NoOp', 'Identity', 'Identity', 'Const', 'VariableV2', 'Assign', 'Identity', 'Const', 'VariableV2', 'Assign', 'Identity', 'Const', 'VariableV2', 'Assign', 'Identity', 'Const', 'VariableV2', 'Assign', 'Identity', 'Const', 'VariableV2', 'Assign', 'Identity', 'Const', 'VariableV2', 'Assign', 'Identity', 'Const', 'VariableV2', 'Assign', 'Identity', 'Const', 'VariableV2', 'Assign', 'Identity', 'Const', 'VariableV2', 'Assign', 'Identity', 'Const', 'VariableV2', 'Assign', 'Identity', 'Const', 'VariableV2', 'Assign', 'Identity', 'Const', 'VariableV2', 'Assign', 'Identity', 'Const', 'VariableV2', 'Assign', 'Identity', 'Const', 'VariableV2', 'Assign', 'Identity', 'Const', 'VariableV2', 'Assign', 'Identity', 'Const', 'VariableV2', 'Assign', 'Identity', 'Const', 'VariableV2', 'Assign', 'Identity', 'Const', 'VariableV2', 'Assign', 'Identity', 'Const', 'VariableV2', 'Assign', 'Identity', 'Const', 'VariableV2', 'Assign', 'Identity', 'Const', 'VariableV2', 'Assign', 'Identity', 'Const', 'VariableV2', 'Assign', 'Identity', 'Const', 'Const', 'Const', 'Const', 'ApplyAdam', 'ApplyAdam', 'ApplyAdam', 'ApplyAdam', 'ApplyAdam', 'ApplyAdam', 'ApplyAdam', 'ApplyAdam', 'ApplyAdam', 'ApplyAdam', 'Mul', 'Assign', 'Mul', 'Assign', 'NoOp', 'Const', 'ArgMax', 'Const', 'ArgMax', 'Equal', 'Cast', 'Rank', 'Const', 'Const', 'Range', 'Mean', 'Const', 'Const', 'Const', 'SaveV2', 'Identity', 'Const', 'Const', 'RestoreV2', 'Assign', 'Const', 'Const', 'RestoreV2', 'Assign', 'Const', 'Const', 'RestoreV2', 'Assign', 'Const', 'Const', 'RestoreV2', 'Assign', 'Const', 'Const', 'RestoreV2', 'Assign', 'Const', 'Const', 'RestoreV2', 'Assign', 'Const', 'Const', 'RestoreV2', 'Assign', 'Const', 'Const', 'RestoreV2', 'Assign', 'Const', 'Const', 'RestoreV2', 'Assign', 'Const', 'Const', 'RestoreV2', 'Assign', 'Const', 'Const', 'RestoreV2', 'Assign', 'Const', 'Const', 'RestoreV2', 'Assign', 'Const', 'Const', 'RestoreV2', 'Assign', 'Const', 'Const', 'RestoreV2', 'Assign', 'Const', 'Const', 'RestoreV2', 'Assign', 'Const', 'Const', 'RestoreV2', 'Assign', 'Const', 'Const', 'RestoreV2', 'Assign', 'Const', 'Const', 'RestoreV2', 'Assign', 'Const', 'Const', 'RestoreV2', 'Assign', 'Const', 'Const', 'RestoreV2', 'Assign', 'Const', 'Const', 'RestoreV2', 'Assign', 'Const', 'Const', 'RestoreV2', 'Assign', 'Const', 'Const', 'RestoreV2', 'Assign', 'Const', 'Const', 'RestoreV2', 'Assign', 'Const', 'Const', 'RestoreV2', 'Assign', 'Const', 'Const', 'RestoreV2', 'Assign', 'Const', 'Const', 'RestoreV2', 'Assign', 'Const', 'Const', 'RestoreV2', 'Assign', 'Const', 'Const', 'RestoreV2', 'Assign', 'Const', 'Const', 'RestoreV2', 'Assign', 'Const', 'Const', 'RestoreV2', 'Assign', 'Const', 'Const', 'RestoreV2', 'Assign', 'NoOp', 'NoOp', 'NoOp', 'Placeholder', 'Placeholder', 'Const', 'Const', 'Const', 'OneHot', 'Const', 'Const', 'Const', 'TruncatedNormal', 'Mul', 'Add', 'VariableV2', 'Assign', 'Identity', 'Const', 'Const', 'Const', 'TruncatedNormal', 'Mul', 'Add', 'VariableV2', 'Assign', 'Identity', 'Const', 'Const', 'Const', 'TruncatedNormal', 'Mul', 'Add', 'VariableV2', 'Assign', 'Identity', 'Const', 'Const', 'Const', 'TruncatedNormal', 'Mul', 'Add', 'VariableV2', 'Assign', 'Identity', 'Const', 'Const', 'Const', 'TruncatedNormal', 'Mul', 'Add', 'VariableV2', 'Assign', 'Identity', 'Const', 'VariableV2', 'Assign', 'Identity', 'Const', 'VariableV2', 'Assign', 'Identity', 'Const', 'VariableV2', 'Assign', 'Identity', 'Const', 'VariableV2', 'Assign', 'Identity', 'Const', 'VariableV2', 'Assign', 'Identity', 'Conv2D', 'BiasAdd', 'Relu', 'MaxPool', 'Conv2D', 'BiasAdd', 'Relu', 'MaxPool', 'Shape', 'Const', 'Const', 'Slice', 'Const', 'Const', 'Slice', 'Const', 'Prod', 'Const', 'ExpandDims', 'Const', 'ConcatV2', 'Reshape', 'MatMul', 'Add', 'Relu', 'MatMul', 'Add', 'Relu', 'MatMul', 'Add', 'Const', 'Shape', 'Const', 'Shape', 'Const', 'Sub', 'Pack', 'Const', 'Slice', 'Const', 'Const', 'ConcatV2', 'Reshape', 'Rank', 'Shape', 'Const', 'Sub', 'Pack', 'Const', 'Slice', 'Const', 'Const', 'ConcatV2', 'Reshape', 'SoftmaxCrossEntropyWithLogits', 'Const', 'Sub', 'Const', 'Pack', 'Slice', 'Reshape', 'Const', 'Mean', 'Const', 'Const', 'Fill', 'Const', 'Reshape', 'Shape', 'Tile', 'Shape', 'Const', 'Const', 'Prod', 'Const', 'Prod', 'Const', 'Maximum', 'FloorDiv', 'Cast', 'RealDiv', 'Shape', 'Reshape', 'ZerosLike', 'Const', 'ExpandDims', 'Mul', 'Shape', 'Reshape', 'Shape', 'Const', 'BroadcastGradientArgs', 'Sum', 'Reshape', 'Sum', 'Reshape', 'NoOp', 'Identity', 'Identity', 'MatMul', 'MatMul', 'NoOp', 'Identity', 'Identity', 'ReluGrad', 'Shape', 'Const', 'BroadcastGradientArgs', 'Sum', 'Reshape', 'Sum', 'Reshape', 'NoOp', 'Identity', 'Identity', 'MatMul', 'MatMul', 'NoOp', 'Identity', 'Identity', 'ReluGrad', 'Shape', 'Const', 'BroadcastGradientArgs', 'Sum', 'Reshape', 'Sum', 'Reshape', 'NoOp', 'Identity', 'Identity', 'MatMul', 'MatMul', 'NoOp', 'Identity', 'Identity', 'Shape', 'Reshape', 'MaxPoolGrad', 'ReluGrad', 'BiasAddGrad', 'NoOp', 'Identity', 'Identity', 'Shape', 'Conv2DBackpropInput', 'Const', 'Conv2DBackpropFilter', 'NoOp', 'Identity', 'Identity', 'MaxPoolGrad', 'ReluGrad', 'BiasAddGrad', 'NoOp', 'Identity', 'Identity', 'Shape', 'Conv2DBackpropInput', 'Const', 'Conv2DBackpropFilter', 'NoOp', 'Identity', 'Identity', 'Const', 'VariableV2', 'Assign', 'Identity', 'Const', 'VariableV2', 'Assign', 'Identity', 'Const', 'VariableV2', 'Assign', 'Identity', 'Const', 'VariableV2', 'Assign', 'Identity', 'Const', 'VariableV2', 'Assign', 'Identity', 'Const', 'VariableV2', 'Assign', 'Identity', 'Const', 'VariableV2', 'Assign', 'Identity', 'Const', 'VariableV2', 'Assign', 'Identity', 'Const', 'VariableV2', 'Assign', 'Identity', 'Const', 'VariableV2', 'Assign', 'Identity', 'Const', 'VariableV2', 'Assign', 'Identity', 'Const', 'VariableV2', 'Assign', 'Identity', 'Const', 'VariableV2', 'Assign', 'Identity', 'Const', 'VariableV2', 'Assign', 'Identity', 'Const', 'VariableV2', 'Assign', 'Identity', 'Const', 'VariableV2', 'Assign', 'Identity', 'Const', 'VariableV2', 'Assign', 'Identity', 'Const', 'VariableV2', 'Assign', 'Identity', 'Const', 'VariableV2', 'Assign', 'Identity', 'Const', 'VariableV2', 'Assign', 'Identity', 'Const', 'VariableV2', 'Assign', 'Identity', 'Const', 'VariableV2', 'Assign', 'Identity', 'Const', 'Const', 'Const', 'Const', 'ApplyAdam', 'ApplyAdam', 'ApplyAdam', 'ApplyAdam', 'ApplyAdam', 'ApplyAdam', 'ApplyAdam', 'ApplyAdam', 'ApplyAdam', 'ApplyAdam', 'Mul', 'Assign', 'Mul', 'Assign', 'NoOp', 'Const', 'ArgMax', 'Const', 'ArgMax', 'Equal', 'Cast', 'Rank', 'Const', 'Const', 'Range', 'Mean', 'Const', 'Const', 'Const', 'SaveV2', 'Identity', 'Const', 'Const', 'RestoreV2', 'Assign', 'Const', 'Const', 'RestoreV2', 'Assign', 'Const', 'Const', 'RestoreV2', 'Assign', 'Const', 'Const', 'RestoreV2', 'Assign', 'Const', 'Const', 'RestoreV2', 'Assign', 'Const', 'Const', 'RestoreV2', 'Assign', 'Const', 'Const', 'RestoreV2', 'Assign', 'Const', 'Const', 'RestoreV2', 'Assign', 'Const', 'Const', 'RestoreV2', 'Assign', 'Const', 'Const', 'RestoreV2', 'Assign', 'Const', 'Const', 'RestoreV2', 'Assign', 'Const', 'Const', 'RestoreV2', 'Assign', 'Const', 'Const', 'RestoreV2', 'Assign', 'Const', 'Const', 'RestoreV2', 'Assign', 'Const', 'Const', 'RestoreV2', 'Assign', 'Const', 'Const', 'RestoreV2', 'Assign', 'Const', 'Const', 'RestoreV2', 'Assign', 'Const', 'Const', 'RestoreV2', 'Assign', 'Const', 'Const', 'RestoreV2', 'Assign', 'Const', 'Const', 'RestoreV2', 'Assign', 'Const', 'Const', 'RestoreV2', 'Assign', 'Const', 'Const', 'RestoreV2', 'Assign', 'Const', 'Const', 'RestoreV2', 'Assign', 'Const', 'Const', 'RestoreV2', 'Assign', 'Const', 'Const', 'RestoreV2', 'Assign', 'Const', 'Const', 'RestoreV2', 'Assign', 'Const', 'Const', 'RestoreV2', 'Assign', 'Const', 'Const', 'RestoreV2', 'Assign', 'Const', 'Const', 'RestoreV2', 'Assign', 'Const', 'Const', 'RestoreV2', 'Assign', 'Const', 'Const', 'RestoreV2', 'Assign', 'Const', 'Const', 'RestoreV2', 'Assign', 'NoOp', 'NoOp', 'NoOp', 'Placeholder', 'Placeholder', 'Const', 'Const', 'Const', 'OneHot', 'Const', 'Const', 'Const', 'TruncatedNormal', 'Mul', 'Add', 'VariableV2', 'Assign', 'Identity', 'Const', 'Const', 'Const', 'TruncatedNormal', 'Mul', 'Add', 'VariableV2', 'Assign', 'Identity', 'Const', 'Const', 'Const', 'TruncatedNormal', 'Mul', 'Add', 'VariableV2', 'Assign', 'Identity', 'Const', 'Const', 'Const', 'TruncatedNormal', 'Mul', 'Add', 'VariableV2', 'Assign', 'Identity', 'Const', 'Const', 'Const', 'TruncatedNormal', 'Mul', 'Add', 'VariableV2', 'Assign', 'Identity', 'Const', 'VariableV2', 'Assign', 'Identity', 'Const', 'VariableV2', 'Assign', 'Identity', 'Const', 'VariableV2', 'Assign', 'Identity', 'Const', 'VariableV2', 'Assign', 'Identity', 'Const', 'VariableV2', 'Assign', 'Identity', 'Conv2D', 'BiasAdd', 'Relu', 'MaxPool', 'Conv2D', 'BiasAdd', 'Relu', 'MaxPool', 'Shape', 'Const', 'Const', 'Slice', 'Const', 'Const', 'Slice', 'Const', 'Prod', 'Const', 'ExpandDims', 'Const', 'ConcatV2', 'Reshape', 'MatMul', 'Add', 'Relu', 'MatMul', 'Add', 'Relu', 'MatMul', 'Add', 'Const', 'Shape', 'Const', 'Shape', 'Const', 'Sub', 'Pack', 'Const', 'Slice', 'Const', 'Const', 'ConcatV2', 'Reshape', 'Rank', 'Shape', 'Const', 'Sub', 'Pack', 'Const', 'Slice', 'Const', 'Const', 'ConcatV2', 'Reshape', 'SoftmaxCrossEntropyWithLogits', 'Const', 'Sub', 'Const', 'Pack', 'Slice', 'Reshape', 'Const', 'Mean', 'Const', 'Const', 'Fill', 'Const', 'Reshape', 'Shape', 'Tile', 'Shape', 'Const', 'Const', 'Prod', 'Const', 'Prod', 'Const', 'Maximum', 'FloorDiv', 'Cast', 'RealDiv', 'Shape', 'Reshape', 'ZerosLike', 'Const', 'ExpandDims', 'Mul', 'Shape', 'Reshape', 'Shape', 'Const', 'BroadcastGradientArgs', 'Sum', 'Reshape', 'Sum', 'Reshape', 'NoOp', 'Identity', 'Identity', 'MatMul', 'MatMul', 'NoOp', 'Identity', 'Identity', 'ReluGrad', 'Shape', 'Const', 'BroadcastGradientArgs', 'Sum', 'Reshape', 'Sum', 'Reshape', 'NoOp', 'Identity', 'Identity', 'MatMul', 'MatMul', 'NoOp', 'Identity', 'Identity', 'ReluGrad', 'Shape', 'Const', 'BroadcastGradientArgs', 'Sum', 'Reshape', 'Sum', 'Reshape', 'NoOp', 'Identity', 'Identity', 'MatMul', 'MatMul', 'NoOp', 'Identity', 'Identity', 'Shape', 'Reshape', 'MaxPoolGrad', 'ReluGrad', 'BiasAddGrad', 'NoOp', 'Identity', 'Identity', 'Shape', 'Conv2DBackpropInput', 'Const', 'Conv2DBackpropFilter', 'NoOp', 'Identity', 'Identity', 'MaxPoolGrad', 'ReluGrad', 'BiasAddGrad', 'NoOp', 'Identity', 'Identity', 'Shape', 'Conv2DBackpropInput', 'Const', 'Conv2DBackpropFilter', 'NoOp', 'Identity', 'Identity', 'Const', 'VariableV2', 'Assign', 'Identity', 'Const', 'VariableV2', 'Assign', 'Identity', 'Const', 'VariableV2', 'Assign', 'Identity', 'Const', 'VariableV2', 'Assign', 'Identity', 'Const', 'VariableV2', 'Assign', 'Identity', 'Const', 'VariableV2', 'Assign', 'Identity', 'Const', 'VariableV2', 'Assign', 'Identity', 'Const', 'VariableV2', 'Assign', 'Identity', 'Const', 'VariableV2', 'Assign', 'Identity', 'Const', 'VariableV2', 'Assign', 'Identity', 'Const', 'VariableV2', 'Assign', 'Identity', 'Const', 'VariableV2', 'Assign', 'Identity', 'Const', 'VariableV2', 'Assign', 'Identity', 'Const', 'VariableV2', 'Assign', 'Identity', 'Const', 'VariableV2', 'Assign', 'Identity', 'Const', 'VariableV2', 'Assign', 'Identity', 'Const', 'VariableV2', 'Assign', 'Identity', 'Const', 'VariableV2', 'Assign', 'Identity', 'Const', 'VariableV2', 'Assign', 'Identity', 'Const', 'VariableV2', 'Assign', 'Identity', 'Const', 'VariableV2', 'Assign', 'Identity', 'Const', 'VariableV2', 'Assign', 'Identity', 'Const', 'Const', 'Const', 'Const', 'ApplyAdam', 'ApplyAdam', 'ApplyAdam', 'ApplyAdam', 'ApplyAdam', 'ApplyAdam', 'ApplyAdam', 'ApplyAdam', 'ApplyAdam', 'ApplyAdam', 'Mul', 'Assign', 'Mul', 'Assign', 'NoOp', 'Const', 'ArgMax', 'Const', 'ArgMax', 'Equal', 'Cast', 'Rank', 'Const', 'Const', 'Range', 'Mean', 'Const', 'Const', 'Const', 'SaveV2', 'Identity', 'Const', 'Const', 'RestoreV2', 'Assign', 'Const', 'Const', 'RestoreV2', 'Assign', 'Const', 'Const', 'RestoreV2', 'Assign', 'Const', 'Const', 'RestoreV2', 'Assign', 'Const', 'Const', 'RestoreV2', 'Assign', 'Const', 'Const', 'RestoreV2', 'Assign', 'Const', 'Const', 'RestoreV2', 'Assign', 'Const', 'Const', 'RestoreV2', 'Assign', 'Const', 'Const', 'RestoreV2', 'Assign', 'Const', 'Const', 'RestoreV2', 'Assign', 'Const', 'Const', 'RestoreV2', 'Assign', 'Const', 'Const', 'RestoreV2', 'Assign', 'Const', 'Const', 'RestoreV2', 'Assign', 'Const', 'Const', 'RestoreV2', 'Assign', 'Const', 'Const', 'RestoreV2', 'Assign', 'Const', 'Const', 'RestoreV2', 'Assign', 'Const', 'Const', 'RestoreV2', 'Assign', 'Const', 'Const', 'RestoreV2', 'Assign', 'Const', 'Const', 'RestoreV2', 'Assign', 'Const', 'Const', 'RestoreV2', 'Assign', 'Const', 'Const', 'RestoreV2', 'Assign', 'Const', 'Const', 'RestoreV2', 'Assign', 'Const', 'Const', 'RestoreV2', 'Assign', 'Const', 'Const', 'RestoreV2', 'Assign', 'Const', 'Const', 'RestoreV2', 'Assign', 'Const', 'Const', 'RestoreV2', 'Assign', 'Const', 'Const', 'RestoreV2', 'Assign', 'Const', 'Const', 'RestoreV2', 'Assign', 'Const', 'Const', 'RestoreV2', 'Assign', 'Const', 'Const', 'RestoreV2', 'Assign', 'Const', 'Const', 'RestoreV2', 'Assign', 'Const', 'Const', 'RestoreV2', 'Assign', 'NoOp', 'NoOp', 'NoOp', 'Placeholder', 'Placeholder', 'Const', 'Const', 'Const', 'OneHot', 'Const', 'Const', 'Const', 'TruncatedNormal', 'Mul', 'Add', 'VariableV2', 'Assign', 'Identity', 'Const', 'Const', 'Const', 'TruncatedNormal', 'Mul', 'Add', 'VariableV2', 'Assign', 'Identity', 'Const', 'Const', 'Const', 'TruncatedNormal', 'Mul', 'Add', 'VariableV2', 'Assign', 'Identity', 'Const', 'Const', 'Const', 'TruncatedNormal', 'Mul', 'Add', 'VariableV2', 'Assign', 'Identity', 'Const', 'Const', 'Const', 'TruncatedNormal', 'Mul', 'Add', 'VariableV2', 'Assign', 'Identity', 'Const', 'VariableV2', 'Assign', 'Identity', 'Const', 'VariableV2', 'Assign', 'Identity', 'Const', 'VariableV2', 'Assign', 'Identity', 'Const', 'VariableV2', 'Assign', 'Identity', 'Const', 'VariableV2', 'Assign', 'Identity', 'Conv2D', 'BiasAdd', 'Relu', 'MaxPool', 'Conv2D', 'BiasAdd', 'Relu', 'MaxPool', 'Shape', 'Const', 'Const', 'Slice', 'Const', 'Const', 'Slice', 'Const', 'Prod', 'Const', 'ExpandDims', 'Const', 'ConcatV2', 'Reshape', 'MatMul', 'Add', 'Relu', 'MatMul', 'Add', 'Relu', 'MatMul', 'Add', 'Const', 'Shape', 'Const', 'Shape', 'Const', 'Sub', 'Pack', 'Const', 'Slice', 'Const', 'Const', 'ConcatV2', 'Reshape', 'Rank', 'Shape', 'Const', 'Sub', 'Pack', 'Const', 'Slice', 'Const', 'Const', 'ConcatV2', 'Reshape', 'SoftmaxCrossEntropyWithLogits', 'Const', 'Sub', 'Const', 'Pack', 'Slice', 'Reshape', 'Const', 'Mean', 'Const', 'Const', 'Fill', 'Const', 'Reshape', 'Shape', 'Tile', 'Shape', 'Const', 'Const', 'Prod', 'Const', 'Prod', 'Const', 'Maximum', 'FloorDiv', 'Cast', 'RealDiv', 'Shape', 'Reshape', 'ZerosLike', 'Const', 'ExpandDims', 'Mul', 'Shape', 'Reshape', 'Shape', 'Const', 'BroadcastGradientArgs', 'Sum', 'Reshape', 'Sum', 'Reshape', 'NoOp', 'Identity', 'Identity', 'MatMul', 'MatMul', 'NoOp', 'Identity', 'Identity', 'ReluGrad', 'Shape', 'Const', 'BroadcastGradientArgs', 'Sum', 'Reshape', 'Sum', 'Reshape', 'NoOp', 'Identity', 'Identity', 'MatMul', 'MatMul', 'NoOp', 'Identity', 'Identity', 'ReluGrad', 'Shape', 'Const', 'BroadcastGradientArgs', 'Sum', 'Reshape', 'Sum', 'Reshape', 'NoOp', 'Identity', 'Identity', 'MatMul', 'MatMul', 'NoOp', 'Identity', 'Identity', 'Shape', 'Reshape', 'MaxPoolGrad', 'ReluGrad', 'BiasAddGrad', 'NoOp', 'Identity', 'Identity', 'Shape', 'Conv2DBackpropInput', 'Const', 'Conv2DBackpropFilter', 'NoOp', 'Identity', 'Identity', 'MaxPoolGrad', 'ReluGrad', 'BiasAddGrad', 'NoOp', 'Identity', 'Identity', 'Shape', 'Conv2DBackpropInput', 'Const', 'Conv2DBackpropFilter', 'NoOp', 'Identity', 'Identity', 'Const', 'VariableV2', 'Assign', 'Identity', 'Const', 'VariableV2', 'Assign', 'Identity', 'Const', 'VariableV2', 'Assign', 'Identity', 'Const', 'VariableV2', 'Assign', 'Identity', 'Const', 'VariableV2', 'Assign', 'Identity', 'Const', 'VariableV2', 'Assign', 'Identity', 'Const', 'VariableV2', 'Assign', 'Identity', 'Const', 'VariableV2', 'Assign', 'Identity', 'Const', 'VariableV2', 'Assign', 'Identity', 'Const', 'VariableV2', 'Assign', 'Identity', 'Const', 'VariableV2', 'Assign', 'Identity', 'Const', 'VariableV2', 'Assign', 'Identity', 'Const', 'VariableV2', 'Assign', 'Identity', 'Const', 'VariableV2', 'Assign', 'Identity', 'Const', 'VariableV2', 'Assign', 'Identity', 'Const', 'VariableV2', 'Assign', 'Identity', 'Const', 'VariableV2', 'Assign', 'Identity', 'Const', 'VariableV2', 'Assign', 'Identity', 'Const', 'VariableV2', 'Assign', 'Identity', 'Const', 'VariableV2', 'Assign', 'Identity', 'Const', 'VariableV2', 'Assign', 'Identity', 'Const', 'VariableV2', 'Assign', 'Identity', 'Const', 'Const', 'Const', 'Const', 'ApplyAdam', 'ApplyAdam', 'ApplyAdam', 'ApplyAdam', 'ApplyAdam', 'ApplyAdam', 'ApplyAdam', 'ApplyAdam', 'ApplyAdam', 'ApplyAdam', 'Mul', 'Assign', 'Mul', 'Assign', 'NoOp', 'Const', 'ArgMax', 'Const', 'ArgMax', 'Equal', 'Cast', 'Rank', 'Const', 'Const', 'Range', 'Mean', 'Const', 'Const', 'Const', 'SaveV2', 'Identity', 'Const', 'Const', 'RestoreV2', 'Assign', 'Const', 'Const', 'RestoreV2', 'Assign', 'Const', 'Const', 'RestoreV2', 'Assign', 'Const', 'Const', 'RestoreV2', 'Assign', 'Const', 'Const', 'RestoreV2', 'Assign', 'Const', 'Const', 'RestoreV2', 'Assign', 'Const', 'Const', 'RestoreV2', 'Assign', 'Const', 'Const', 'RestoreV2', 'Assign', 'Const', 'Const', 'RestoreV2', 'Assign', 'Const', 'Const', 'RestoreV2', 'Assign', 'Const', 'Const', 'RestoreV2', 'Assign', 'Const', 'Const', 'RestoreV2', 'Assign', 'Const', 'Const', 'RestoreV2', 'Assign', 'Const', 'Const', 'RestoreV2', 'Assign', 'Const', 'Const', 'RestoreV2', 'Assign', 'Const', 'Const', 'RestoreV2', 'Assign', 'Const', 'Const', 'RestoreV2', 'Assign', 'Const', 'Const', 'RestoreV2', 'Assign', 'Const', 'Const', 'RestoreV2', 'Assign', 'Const', 'Const', 'RestoreV2', 'Assign', 'Const', 'Const', 'RestoreV2', 'Assign', 'Const', 'Const', 'RestoreV2', 'Assign', 'Const', 'Const', 'RestoreV2', 'Assign', 'Const', 'Const', 'RestoreV2', 'Assign', 'Const', 'Const', 'RestoreV2', 'Assign', 'Const', 'Const', 'RestoreV2', 'Assign', 'Const', 'Const', 'RestoreV2', 'Assign', 'Const', 'Const', 'RestoreV2', 'Assign', 'Const', 'Const', 'RestoreV2', 'Assign', 'Const', 'Const', 'RestoreV2', 'Assign', 'Const', 'Const', 'RestoreV2', 'Assign', 'Const', 'Const', 'RestoreV2', 'Assign', 'NoOp', 'NoOp', 'NoOp', 'Placeholder', 'Placeholder', 'Const', 'Const', 'Const', 'OneHot', 'Const', 'Const', 'Const', 'TruncatedNormal', 'Mul', 'Add', 'VariableV2', 'Assign', 'Identity', 'Const', 'Const', 'Const', 'TruncatedNormal', 'Mul', 'Add', 'VariableV2', 'Assign', 'Identity', 'Const', 'Const', 'Const', 'TruncatedNormal', 'Mul', 'Add', 'VariableV2', 'Assign', 'Identity', 'Const', 'Const', 'Const', 'TruncatedNormal', 'Mul', 'Add', 'VariableV2', 'Assign', 'Identity', 'Const', 'Const', 'Const', 'TruncatedNormal', 'Mul', 'Add', 'VariableV2', 'Assign', 'Identity', 'Const', 'VariableV2', 'Assign', 'Identity', 'Const', 'VariableV2', 'Assign', 'Identity', 'Const', 'VariableV2', 'Assign', 'Identity', 'Const', 'VariableV2', 'Assign', 'Identity', 'Const', 'VariableV2', 'Assign', 'Identity', 'Conv2D', 'BiasAdd', 'Relu', 'MaxPool', 'Conv2D', 'BiasAdd', 'Relu', 'MaxPool', 'Shape', 'Const', 'Const', 'Slice', 'Const', 'Const', 'Slice', 'Const', 'Prod', 'Const', 'ExpandDims', 'Const', 'ConcatV2', 'Reshape', 'MatMul', 'Add', 'Relu', 'MatMul', 'Add', 'Relu', 'MatMul', 'Add', 'Const', 'Shape', 'Const', 'Shape', 'Const', 'Sub', 'Pack', 'Const', 'Slice', 'Const', 'Const', 'ConcatV2', 'Reshape', 'Rank', 'Shape', 'Const', 'Sub', 'Pack', 'Const', 'Slice', 'Const', 'Const', 'ConcatV2', 'Reshape', 'SoftmaxCrossEntropyWithLogits', 'Const', 'Sub', 'Const', 'Pack', 'Slice', 'Reshape', 'Const', 'Mean', 'Const', 'Const', 'Fill', 'Const', 'Reshape', 'Shape', 'Tile', 'Shape', 'Const', 'Const', 'Prod', 'Const', 'Prod', 'Const', 'Maximum', 'FloorDiv', 'Cast', 'RealDiv', 'Shape', 'Reshape', 'ZerosLike', 'Const', 'ExpandDims', 'Mul', 'Shape', 'Reshape', 'Shape', 'Const', 'BroadcastGradientArgs', 'Sum', 'Reshape', 'Sum', 'Reshape', 'NoOp', 'Identity', 'Identity', 'MatMul', 'MatMul', 'NoOp', 'Identity', 'Identity', 'ReluGrad', 'Shape', 'Const', 'BroadcastGradientArgs', 'Sum', 'Reshape', 'Sum', 'Reshape', 'NoOp', 'Identity', 'Identity', 'MatMul', 'MatMul', 'NoOp', 'Identity', 'Identity', 'ReluGrad', 'Shape', 'Const', 'BroadcastGradientArgs', 'Sum', 'Reshape', 'Sum', 'Reshape', 'NoOp', 'Identity', 'Identity', 'MatMul', 'MatMul', 'NoOp', 'Identity', 'Identity', 'Shape', 'Reshape', 'MaxPoolGrad', 'ReluGrad', 'BiasAddGrad', 'NoOp', 'Identity', 'Identity', 'Shape', 'Conv2DBackpropInput', 'Const', 'Conv2DBackpropFilter', 'NoOp', 'Identity', 'Identity', 'MaxPoolGrad', 'ReluGrad', 'BiasAddGrad', 'NoOp', 'Identity', 'Identity', 'Shape', 'Conv2DBackpropInput', 'Const', 'Conv2DBackpropFilter', 'NoOp', 'Identity', 'Identity', 'Const', 'VariableV2', 'Assign', 'Identity', 'Const', 'VariableV2', 'Assign', 'Identity', 'Const', 'VariableV2', 'Assign', 'Identity', 'Const', 'VariableV2', 'Assign', 'Identity', 'Const', 'VariableV2', 'Assign', 'Identity', 'Const', 'VariableV2', 'Assign', 'Identity', 'Const', 'VariableV2', 'Assign', 'Identity', 'Const', 'VariableV2', 'Assign', 'Identity', 'Const', 'VariableV2', 'Assign', 'Identity', 'Const', 'VariableV2', 'Assign', 'Identity', 'Const', 'VariableV2', 'Assign', 'Identity', 'Const', 'VariableV2', 'Assign', 'Identity', 'Const', 'VariableV2', 'Assign', 'Identity', 'Const', 'VariableV2', 'Assign', 'Identity', 'Const', 'VariableV2', 'Assign', 'Identity', 'Const', 'VariableV2', 'Assign', 'Identity', 'Const', 'VariableV2', 'Assign', 'Identity', 'Const', 'VariableV2', 'Assign', 'Identity', 'Const', 'VariableV2', 'Assign', 'Identity', 'Const', 'VariableV2', 'Assign', 'Identity', 'Const', 'VariableV2', 'Assign', 'Identity', 'Const', 'VariableV2', 'Assign', 'Identity', 'Const', 'Const', 'Const', 'Const', 'ApplyAdam', 'ApplyAdam', 'ApplyAdam', 'ApplyAdam', 'ApplyAdam', 'ApplyAdam', 'ApplyAdam', 'ApplyAdam', 'ApplyAdam', 'ApplyAdam', 'Mul', 'Assign', 'Mul', 'Assign', 'NoOp', 'Const', 'ArgMax', 'Const', 'ArgMax', 'Equal', 'Cast', 'Rank', 'Const', 'Const', 'Range', 'Mean', 'Const', 'Const', 'Const', 'SaveV2', 'Identity', 'Const', 'Const', 'RestoreV2', 'Assign', 'Const', 'Const', 'RestoreV2', 'Assign', 'Const', 'Const', 'RestoreV2', 'Assign', 'Const', 'Const', 'RestoreV2', 'Assign', 'Const', 'Const', 'RestoreV2', 'Assign', 'Const', 'Const', 'RestoreV2', 'Assign', 'Const', 'Const', 'RestoreV2', 'Assign', 'Const', 'Const', 'RestoreV2', 'Assign', 'Const', 'Const', 'RestoreV2', 'Assign', 'Const', 'Const', 'RestoreV2', 'Assign', 'Const', 'Const', 'RestoreV2', 'Assign', 'Const', 'Const', 'RestoreV2', 'Assign', 'Const', 'Const', 'RestoreV2', 'Assign', 'Const', 'Const', 'RestoreV2', 'Assign', 'Const', 'Const', 'RestoreV2', 'Assign', 'Const', 'Const', 'RestoreV2', 'Assign', 'Const', 'Const', 'RestoreV2', 'Assign', 'Const', 'Const', 'RestoreV2', 'Assign', 'Const', 'Const', 'RestoreV2', 'Assign', 'Const', 'Const', 'RestoreV2', 'Assign', 'Const', 'Const', 'RestoreV2', 'Assign', 'Const', 'Const', 'RestoreV2', 'Assign', 'Const', 'Const', 'RestoreV2', 'Assign', 'Const', 'Const', 'RestoreV2', 'Assign', 'Const', 'Const', 'RestoreV2', 'Assign', 'Const', 'Const', 'RestoreV2', 'Assign', 'Const', 'Const', 'RestoreV2', 'Assign', 'Const', 'Const', 'RestoreV2', 'Assign', 'Const', 'Const', 'RestoreV2', 'Assign', 'Const', 'Const', 'RestoreV2', 'Assign', 'Const', 'Const', 'RestoreV2', 'Assign', 'Const', 'Const', 'RestoreV2', 'Assign', 'NoOp', 'NoOp', 'NoOp', 'Placeholder', 'Placeholder', 'Const', 'Const', 'Const', 'OneHot', 'Const', 'Const', 'Const', 'TruncatedNormal', 'Mul', 'Add', 'VariableV2', 'Assign', 'Identity', 'Const', 'Const', 'Const', 'TruncatedNormal', 'Mul', 'Add', 'VariableV2', 'Assign', 'Identity', 'Const', 'Const', 'Const', 'TruncatedNormal', 'Mul', 'Add', 'VariableV2', 'Assign', 'Identity', 'Const', 'Const', 'Const', 'TruncatedNormal', 'Mul', 'Add', 'VariableV2', 'Assign', 'Identity', 'Const', 'Const', 'Const', 'TruncatedNormal', 'Mul', 'Add', 'VariableV2', 'Assign', 'Identity', 'Const', 'VariableV2', 'Assign', 'Identity', 'Const', 'VariableV2', 'Assign', 'Identity', 'Const', 'VariableV2', 'Assign', 'Identity', 'Const', 'VariableV2', 'Assign', 'Identity', 'Const', 'VariableV2', 'Assign', 'Identity', 'Conv2D', 'BiasAdd', 'Relu', 'MaxPool', 'Conv2D', 'BiasAdd', 'Relu', 'MaxPool', 'Shape', 'Const', 'Const', 'Slice', 'Const', 'Const', 'Slice', 'Const', 'Prod', 'Const', 'ExpandDims', 'Const', 'ConcatV2', 'Reshape', 'MatMul', 'Add', 'Relu', 'MatMul', 'Add', 'Relu', 'MatMul', 'Add', 'Const', 'Shape', 'Const', 'Shape', 'Const', 'Sub', 'Pack', 'Const', 'Slice', 'Const', 'Const', 'ConcatV2', 'Reshape', 'Rank', 'Shape', 'Const', 'Sub', 'Pack', 'Const', 'Slice', 'Const', 'Const', 'ConcatV2', 'Reshape', 'SoftmaxCrossEntropyWithLogits', 'Const', 'Sub', 'Const', 'Pack', 'Slice', 'Reshape', 'Const', 'Mean', 'Const', 'Const', 'Fill', 'Const', 'Reshape', 'Shape', 'Tile', 'Shape', 'Const', 'Const', 'Prod', 'Const', 'Prod', 'Const', 'Maximum', 'FloorDiv', 'Cast', 'RealDiv', 'Shape', 'Reshape', 'ZerosLike', 'Const', 'ExpandDims', 'Mul', 'Shape', 'Reshape', 'Shape', 'Const', 'BroadcastGradientArgs', 'Sum', 'Reshape', 'Sum', 'Reshape', 'NoOp', 'Identity', 'Identity', 'MatMul', 'MatMul', 'NoOp', 'Identity', 'Identity', 'ReluGrad', 'Shape', 'Const', 'BroadcastGradientArgs', 'Sum', 'Reshape', 'Sum', 'Reshape', 'NoOp', 'Identity', 'Identity', 'MatMul', 'MatMul', 'NoOp', 'Identity', 'Identity', 'ReluGrad', 'Shape', 'Const', 'BroadcastGradientArgs', 'Sum', 'Reshape', 'Sum', 'Reshape', 'NoOp', 'Identity', 'Identity', 'MatMul', 'MatMul', 'NoOp', 'Identity', 'Identity', 'Shape', 'Reshape', 'MaxPoolGrad', 'ReluGrad', 'BiasAddGrad', 'NoOp', 'Identity', 'Identity', 'Shape', 'Conv2DBackpropInput', 'Const', 'Conv2DBackpropFilter', 'NoOp', 'Identity', 'Identity', 'MaxPoolGrad', 'ReluGrad', 'BiasAddGrad', 'NoOp', 'Identity', 'Identity', 'Shape', 'Conv2DBackpropInput', 'Const', 'Conv2DBackpropFilter', 'NoOp', 'Identity', 'Identity', 'Const', 'VariableV2', 'Assign', 'Identity', 'Const', 'VariableV2', 'Assign', 'Identity', 'Const', 'VariableV2', 'Assign', 'Identity', 'Const', 'VariableV2', 'Assign', 'Identity', 'Const', 'VariableV2', 'Assign', 'Identity', 'Const', 'VariableV2', 'Assign', 'Identity', 'Const', 'VariableV2', 'Assign', 'Identity', 'Const', 'VariableV2', 'Assign', 'Identity', 'Const', 'VariableV2', 'Assign', 'Identity', 'Const', 'VariableV2', 'Assign', 'Identity', 'Const', 'VariableV2', 'Assign', 'Identity', 'Const', 'VariableV2', 'Assign', 'Identity', 'Const', 'VariableV2', 'Assign', 'Identity', 'Const', 'VariableV2', 'Assign', 'Identity', 'Const', 'VariableV2', 'Assign', 'Identity', 'Const', 'VariableV2', 'Assign', 'Identity', 'Const', 'VariableV2', 'Assign', 'Identity', 'Const', 'VariableV2', 'Assign', 'Identity', 'Const', 'VariableV2', 'Assign', 'Identity', 'Const', 'VariableV2', 'Assign', 'Identity', 'Const', 'VariableV2', 'Assign', 'Identity', 'Const', 'VariableV2', 'Assign', 'Identity', 'Const', 'Const', 'Const', 'Const', 'ApplyAdam', 'ApplyAdam', 'ApplyAdam', 'ApplyAdam', 'ApplyAdam', 'ApplyAdam', 'ApplyAdam', 'ApplyAdam', 'ApplyAdam', 'ApplyAdam', 'Mul', 'Assign', 'Mul', 'Assign', 'NoOp', 'Const', 'ArgMax', 'Const', 'ArgMax', 'Equal', 'Cast', 'Rank', 'Const', 'Const', 'Range', 'Mean', 'Const', 'Const', 'Const', 'SaveV2', 'Identity', 'Const', 'Const', 'RestoreV2', 'Assign', 'Const', 'Const', 'RestoreV2', 'Assign', 'Const', 'Const', 'RestoreV2', 'Assign', 'Const', 'Const', 'RestoreV2', 'Assign', 'Const', 'Const', 'RestoreV2', 'Assign', 'Const', 'Const', 'RestoreV2', 'Assign', 'Const', 'Const', 'RestoreV2', 'Assign', 'Const', 'Const', 'RestoreV2', 'Assign', 'Const', 'Const', 'RestoreV2', 'Assign', 'Const', 'Const', 'RestoreV2', 'Assign', 'Const', 'Const', 'RestoreV2', 'Assign', 'Const', 'Const', 'RestoreV2', 'Assign', 'Const', 'Const', 'RestoreV2', 'Assign', 'Const', 'Const', 'RestoreV2', 'Assign', 'Const', 'Const', 'RestoreV2', 'Assign', 'Const', 'Const', 'RestoreV2', 'Assign', 'Const', 'Const', 'RestoreV2', 'Assign', 'Const', 'Const', 'RestoreV2', 'Assign', 'Const', 'Const', 'RestoreV2', 'Assign', 'Const', 'Const', 'RestoreV2', 'Assign', 'Const', 'Const', 'RestoreV2', 'Assign', 'Const', 'Const', 'RestoreV2', 'Assign', 'Const', 'Const', 'RestoreV2', 'Assign', 'Const', 'Const', 'RestoreV2', 'Assign', 'Const', 'Const', 'RestoreV2', 'Assign', 'Const', 'Const', 'RestoreV2', 'Assign', 'Const', 'Const', 'RestoreV2', 'Assign', 'Const', 'Const', 'RestoreV2', 'Assign', 'Const', 'Const', 'RestoreV2', 'Assign', 'Const', 'Const', 'RestoreV2', 'Assign', 'Const', 'Const', 'RestoreV2', 'Assign', 'Const', 'Const', 'RestoreV2', 'Assign', 'NoOp', 'NoOp']\n"
     ]
    }
   ],
   "source": [
    "dictOperationNames = {}\n",
    "for i in range(len(Tensor_names)):\n",
    "    if Tensor_operations[i] in dictOperationNames:\n",
    "        dictOperationNames[Tensor_operations[i]].append(Tensor_names[i])\n",
    "    else:                  \n",
    "        dictOperationNames.update({Tensor_operations[i]:[Tensor_names[i]]})\n",
    "print(Tensor_operations)"
   ]
  },
  {
   "cell_type": "code",
   "execution_count": 48,
   "metadata": {},
   "outputs": [
    {
     "name": "stdout",
     "output_type": "stream",
     "text": [
      "['Conv2D', 'Conv2D_1', 'Conv2D_2', 'Conv2D_1_1', 'Conv2D_3', 'Conv2D_1_2', 'Conv2D_4', 'Conv2D_1_3', 'Conv2D_5', 'Conv2D_1_4', 'Conv2D_6', 'Conv2D_1_5', 'Conv2D_7', 'Conv2D_1_6', 'Conv2D_8', 'Conv2D_1_7', 'Conv2D_9', 'Conv2D_1_8', 'Conv2D_10', 'Conv2D_1_9', 'Conv2D_11', 'Conv2D_1_10', 'Conv2D_12', 'Conv2D_1_11']\n",
      "24\n"
     ]
    }
   ],
   "source": [
    "print(dictOperationNames['Conv2D'])\n",
    "print(len(dictOperationNames['Conv2D']))"
   ]
  },
  {
   "cell_type": "code",
   "execution_count": null,
   "metadata": {},
   "outputs": [],
   "source": []
  }
 ],
 "metadata": {
  "anaconda-cloud": {},
  "kernelspec": {
   "display_name": "Python 3",
   "language": "python",
   "name": "python3"
  },
  "language_info": {
   "codemirror_mode": {
    "name": "ipython",
    "version": 3
   },
   "file_extension": ".py",
   "mimetype": "text/x-python",
   "name": "python",
   "nbconvert_exporter": "python",
   "pygments_lexer": "ipython3",
   "version": "3.5.2"
  },
  "widgets": {
   "state": {},
   "version": "1.1.2"
  }
 },
 "nbformat": 4,
 "nbformat_minor": 2
}
